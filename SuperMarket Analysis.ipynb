{
 "cells": [
  {
   "cell_type": "code",
   "execution_count": 1,
   "id": "9b6ec975",
   "metadata": {},
   "outputs": [],
   "source": [
    "import pandas as pd\n",
    "import numpy as np\n",
    "import seaborn as sns"
   ]
  },
  {
   "cell_type": "markdown",
   "id": "6178f5bc",
   "metadata": {},
   "source": [
    "# Load dataset:"
   ]
  },
  {
   "cell_type": "code",
   "execution_count": 2,
   "id": "a8ded17e",
   "metadata": {
    "scrolled": true
   },
   "outputs": [
    {
     "data": {
      "text/html": [
       "<div>\n",
       "<style scoped>\n",
       "    .dataframe tbody tr th:only-of-type {\n",
       "        vertical-align: middle;\n",
       "    }\n",
       "\n",
       "    .dataframe tbody tr th {\n",
       "        vertical-align: top;\n",
       "    }\n",
       "\n",
       "    .dataframe thead th {\n",
       "        text-align: right;\n",
       "    }\n",
       "</style>\n",
       "<table border=\"1\" class=\"dataframe\">\n",
       "  <thead>\n",
       "    <tr style=\"text-align: right;\">\n",
       "      <th></th>\n",
       "      <th>Unnamed: 0</th>\n",
       "      <th>Invoice ID</th>\n",
       "      <th>Branch</th>\n",
       "      <th>City</th>\n",
       "      <th>Customer type</th>\n",
       "      <th>Gender</th>\n",
       "      <th>Product line</th>\n",
       "      <th>Unit price</th>\n",
       "      <th>Quantity</th>\n",
       "      <th>Tax 5%</th>\n",
       "      <th>Total</th>\n",
       "      <th>Date</th>\n",
       "      <th>Time</th>\n",
       "      <th>Payment</th>\n",
       "      <th>Rating</th>\n",
       "    </tr>\n",
       "  </thead>\n",
       "  <tbody>\n",
       "    <tr>\n",
       "      <th>0</th>\n",
       "      <td>0</td>\n",
       "      <td>750-67-8428</td>\n",
       "      <td>A</td>\n",
       "      <td>Yangon</td>\n",
       "      <td>Member</td>\n",
       "      <td>Female</td>\n",
       "      <td>Health and beauty</td>\n",
       "      <td>74.69</td>\n",
       "      <td>7</td>\n",
       "      <td>26.1415</td>\n",
       "      <td>548.9715</td>\n",
       "      <td>1/5/2019</td>\n",
       "      <td>13:08</td>\n",
       "      <td>Ewallet</td>\n",
       "      <td>9.1</td>\n",
       "    </tr>\n",
       "    <tr>\n",
       "      <th>1</th>\n",
       "      <td>1</td>\n",
       "      <td>226-31-3081</td>\n",
       "      <td>C</td>\n",
       "      <td>Naypyitaw</td>\n",
       "      <td>Normal</td>\n",
       "      <td>Female</td>\n",
       "      <td>Electronic accessories</td>\n",
       "      <td>15.28</td>\n",
       "      <td>5</td>\n",
       "      <td>3.8200</td>\n",
       "      <td>80.2200</td>\n",
       "      <td>3/8/2019</td>\n",
       "      <td>10:29</td>\n",
       "      <td>Cash</td>\n",
       "      <td>9.6</td>\n",
       "    </tr>\n",
       "    <tr>\n",
       "      <th>2</th>\n",
       "      <td>2</td>\n",
       "      <td>631-41-3108</td>\n",
       "      <td>A</td>\n",
       "      <td>Yangon</td>\n",
       "      <td>Normal</td>\n",
       "      <td>Male</td>\n",
       "      <td>Home and lifestyle</td>\n",
       "      <td>46.33</td>\n",
       "      <td>7</td>\n",
       "      <td>16.2155</td>\n",
       "      <td>340.5255</td>\n",
       "      <td>3/3/2019</td>\n",
       "      <td>13:23</td>\n",
       "      <td>Credit card</td>\n",
       "      <td>7.4</td>\n",
       "    </tr>\n",
       "    <tr>\n",
       "      <th>3</th>\n",
       "      <td>3</td>\n",
       "      <td>123-19-1176</td>\n",
       "      <td>A</td>\n",
       "      <td>Yangon</td>\n",
       "      <td>Member</td>\n",
       "      <td>Male</td>\n",
       "      <td>Health and beauty</td>\n",
       "      <td>58.22</td>\n",
       "      <td>8</td>\n",
       "      <td>23.2880</td>\n",
       "      <td>489.0480</td>\n",
       "      <td>1/27/2019</td>\n",
       "      <td>20:33</td>\n",
       "      <td>Ewallet</td>\n",
       "      <td>8.4</td>\n",
       "    </tr>\n",
       "    <tr>\n",
       "      <th>4</th>\n",
       "      <td>4</td>\n",
       "      <td>373-73-7910</td>\n",
       "      <td>A</td>\n",
       "      <td>Yangon</td>\n",
       "      <td>Normal</td>\n",
       "      <td>Male</td>\n",
       "      <td>Sports and travel</td>\n",
       "      <td>86.31</td>\n",
       "      <td>7</td>\n",
       "      <td>30.2085</td>\n",
       "      <td>634.3785</td>\n",
       "      <td>2/8/2019</td>\n",
       "      <td>10:37</td>\n",
       "      <td>Ewallet</td>\n",
       "      <td>5.3</td>\n",
       "    </tr>\n",
       "    <tr>\n",
       "      <th>...</th>\n",
       "      <td>...</td>\n",
       "      <td>...</td>\n",
       "      <td>...</td>\n",
       "      <td>...</td>\n",
       "      <td>...</td>\n",
       "      <td>...</td>\n",
       "      <td>...</td>\n",
       "      <td>...</td>\n",
       "      <td>...</td>\n",
       "      <td>...</td>\n",
       "      <td>...</td>\n",
       "      <td>...</td>\n",
       "      <td>...</td>\n",
       "      <td>...</td>\n",
       "      <td>...</td>\n",
       "    </tr>\n",
       "    <tr>\n",
       "      <th>995</th>\n",
       "      <td>995</td>\n",
       "      <td>233-67-5758</td>\n",
       "      <td>C</td>\n",
       "      <td>Naypyitaw</td>\n",
       "      <td>Normal</td>\n",
       "      <td>Male</td>\n",
       "      <td>Health and beauty</td>\n",
       "      <td>40.35</td>\n",
       "      <td>1</td>\n",
       "      <td>2.0175</td>\n",
       "      <td>42.3675</td>\n",
       "      <td>1/29/2019</td>\n",
       "      <td>13:46</td>\n",
       "      <td>Ewallet</td>\n",
       "      <td>6.2</td>\n",
       "    </tr>\n",
       "    <tr>\n",
       "      <th>996</th>\n",
       "      <td>996</td>\n",
       "      <td>303-96-2227</td>\n",
       "      <td>B</td>\n",
       "      <td>Mandalay</td>\n",
       "      <td>Normal</td>\n",
       "      <td>Female</td>\n",
       "      <td>Home and lifestyle</td>\n",
       "      <td>97.38</td>\n",
       "      <td>10</td>\n",
       "      <td>48.6900</td>\n",
       "      <td>1022.4900</td>\n",
       "      <td>3/2/2019</td>\n",
       "      <td>17:16</td>\n",
       "      <td>Ewallet</td>\n",
       "      <td>4.4</td>\n",
       "    </tr>\n",
       "    <tr>\n",
       "      <th>997</th>\n",
       "      <td>997</td>\n",
       "      <td>727-02-1313</td>\n",
       "      <td>A</td>\n",
       "      <td>Yangon</td>\n",
       "      <td>Member</td>\n",
       "      <td>Male</td>\n",
       "      <td>Food and beverages</td>\n",
       "      <td>31.84</td>\n",
       "      <td>1</td>\n",
       "      <td>1.5920</td>\n",
       "      <td>33.4320</td>\n",
       "      <td>2/9/2019</td>\n",
       "      <td>13:22</td>\n",
       "      <td>Cash</td>\n",
       "      <td>7.7</td>\n",
       "    </tr>\n",
       "    <tr>\n",
       "      <th>998</th>\n",
       "      <td>998</td>\n",
       "      <td>347-56-2442</td>\n",
       "      <td>A</td>\n",
       "      <td>Yangon</td>\n",
       "      <td>Normal</td>\n",
       "      <td>Male</td>\n",
       "      <td>Home and lifestyle</td>\n",
       "      <td>65.82</td>\n",
       "      <td>1</td>\n",
       "      <td>3.2910</td>\n",
       "      <td>69.1110</td>\n",
       "      <td>2/22/2019</td>\n",
       "      <td>15:33</td>\n",
       "      <td>Cash</td>\n",
       "      <td>4.1</td>\n",
       "    </tr>\n",
       "    <tr>\n",
       "      <th>999</th>\n",
       "      <td>999</td>\n",
       "      <td>849-09-3807</td>\n",
       "      <td>A</td>\n",
       "      <td>Yangon</td>\n",
       "      <td>Member</td>\n",
       "      <td>Female</td>\n",
       "      <td>Fashion accessories</td>\n",
       "      <td>88.34</td>\n",
       "      <td>7</td>\n",
       "      <td>30.9190</td>\n",
       "      <td>649.2990</td>\n",
       "      <td>2/18/2019</td>\n",
       "      <td>13:28</td>\n",
       "      <td>Cash</td>\n",
       "      <td>6.6</td>\n",
       "    </tr>\n",
       "  </tbody>\n",
       "</table>\n",
       "<p>1000 rows × 15 columns</p>\n",
       "</div>"
      ],
      "text/plain": [
       "     Unnamed: 0   Invoice ID Branch       City Customer type  Gender  \\\n",
       "0             0  750-67-8428      A     Yangon        Member  Female   \n",
       "1             1  226-31-3081      C  Naypyitaw        Normal  Female   \n",
       "2             2  631-41-3108      A     Yangon        Normal    Male   \n",
       "3             3  123-19-1176      A     Yangon        Member    Male   \n",
       "4             4  373-73-7910      A     Yangon        Normal    Male   \n",
       "..          ...          ...    ...        ...           ...     ...   \n",
       "995         995  233-67-5758      C  Naypyitaw        Normal    Male   \n",
       "996         996  303-96-2227      B   Mandalay        Normal  Female   \n",
       "997         997  727-02-1313      A     Yangon        Member    Male   \n",
       "998         998  347-56-2442      A     Yangon        Normal    Male   \n",
       "999         999  849-09-3807      A     Yangon        Member  Female   \n",
       "\n",
       "               Product line  Unit price  Quantity   Tax 5%      Total  \\\n",
       "0         Health and beauty       74.69         7  26.1415   548.9715   \n",
       "1    Electronic accessories       15.28         5   3.8200    80.2200   \n",
       "2        Home and lifestyle       46.33         7  16.2155   340.5255   \n",
       "3         Health and beauty       58.22         8  23.2880   489.0480   \n",
       "4         Sports and travel       86.31         7  30.2085   634.3785   \n",
       "..                      ...         ...       ...      ...        ...   \n",
       "995       Health and beauty       40.35         1   2.0175    42.3675   \n",
       "996      Home and lifestyle       97.38        10  48.6900  1022.4900   \n",
       "997      Food and beverages       31.84         1   1.5920    33.4320   \n",
       "998      Home and lifestyle       65.82         1   3.2910    69.1110   \n",
       "999     Fashion accessories       88.34         7  30.9190   649.2990   \n",
       "\n",
       "          Date   Time      Payment  Rating  \n",
       "0     1/5/2019  13:08      Ewallet     9.1  \n",
       "1     3/8/2019  10:29         Cash     9.6  \n",
       "2     3/3/2019  13:23  Credit card     7.4  \n",
       "3    1/27/2019  20:33      Ewallet     8.4  \n",
       "4     2/8/2019  10:37      Ewallet     5.3  \n",
       "..         ...    ...          ...     ...  \n",
       "995  1/29/2019  13:46      Ewallet     6.2  \n",
       "996   3/2/2019  17:16      Ewallet     4.4  \n",
       "997   2/9/2019  13:22         Cash     7.7  \n",
       "998  2/22/2019  15:33         Cash     4.1  \n",
       "999  2/18/2019  13:28         Cash     6.6  \n",
       "\n",
       "[1000 rows x 15 columns]"
      ]
     },
     "execution_count": 2,
     "metadata": {},
     "output_type": "execute_result"
    }
   ],
   "source": [
    "df=pd.read_csv(\"supermarket.csv\")\n",
    "df"
   ]
  },
  {
   "cell_type": "markdown",
   "id": "d4d378d6",
   "metadata": {},
   "source": [
    "# Drop usless columns:"
   ]
  },
  {
   "cell_type": "code",
   "execution_count": 3,
   "id": "c3a47925",
   "metadata": {},
   "outputs": [],
   "source": [
    "df.drop(['Unnamed: 0'],axis=1,inplace=True)"
   ]
  },
  {
   "cell_type": "markdown",
   "id": "9f6b57df",
   "metadata": {},
   "source": [
    "# Check columns datatype and null values:"
   ]
  },
  {
   "cell_type": "code",
   "execution_count": 4,
   "id": "ec83be87",
   "metadata": {
    "scrolled": true
   },
   "outputs": [
    {
     "name": "stdout",
     "output_type": "stream",
     "text": [
      "<class 'pandas.core.frame.DataFrame'>\n",
      "RangeIndex: 1000 entries, 0 to 999\n",
      "Data columns (total 14 columns):\n",
      " #   Column         Non-Null Count  Dtype  \n",
      "---  ------         --------------  -----  \n",
      " 0   Invoice ID     1000 non-null   object \n",
      " 1   Branch         1000 non-null   object \n",
      " 2   City           1000 non-null   object \n",
      " 3   Customer type  1000 non-null   object \n",
      " 4   Gender         1000 non-null   object \n",
      " 5   Product line   1000 non-null   object \n",
      " 6   Unit price     1000 non-null   float64\n",
      " 7   Quantity       1000 non-null   int64  \n",
      " 8   Tax 5%         1000 non-null   float64\n",
      " 9   Total          1000 non-null   float64\n",
      " 10  Date           1000 non-null   object \n",
      " 11  Time           1000 non-null   object \n",
      " 12  Payment        1000 non-null   object \n",
      " 13  Rating         1000 non-null   float64\n",
      "dtypes: float64(4), int64(1), object(9)\n",
      "memory usage: 109.5+ KB\n"
     ]
    }
   ],
   "source": [
    "df.info()"
   ]
  },
  {
   "cell_type": "markdown",
   "id": "09462198",
   "metadata": {},
   "source": [
    "# Feature Engineering:"
   ]
  },
  {
   "cell_type": "markdown",
   "id": "85d1ee50",
   "metadata": {},
   "source": [
    "#### I will make date and time columns one column to convert them to datetime to make feature engineering on new column."
   ]
  },
  {
   "cell_type": "code",
   "execution_count": 5,
   "id": "14a6fb8f",
   "metadata": {
    "scrolled": true
   },
   "outputs": [],
   "source": [
    "def merge_columns(x):\n",
    "    return x['Date']+\" \"+x['Time']\n",
    "df['DateTime']=df.apply(merge_columns,axis=1)"
   ]
  },
  {
   "cell_type": "code",
   "execution_count": 6,
   "id": "7569562e",
   "metadata": {
    "scrolled": true
   },
   "outputs": [],
   "source": [
    "df.drop(['Date','Time'],inplace=True,axis=1)"
   ]
  },
  {
   "cell_type": "code",
   "execution_count": 7,
   "id": "fd8bb230",
   "metadata": {
    "scrolled": true
   },
   "outputs": [],
   "source": [
    "df['DateTime']=pd.to_datetime(df['DateTime'],format='%m/%d/%Y %H:%M')"
   ]
  },
  {
   "cell_type": "code",
   "execution_count": 8,
   "id": "8ef9b3b3",
   "metadata": {
    "scrolled": true
   },
   "outputs": [],
   "source": [
    "df['day_name']=df['DateTime'].dt.day_name()"
   ]
  },
  {
   "cell_type": "code",
   "execution_count": 9,
   "id": "d724c3ab",
   "metadata": {},
   "outputs": [],
   "source": [
    "df['Hour']=df['DateTime'].dt.hour"
   ]
  },
  {
   "cell_type": "code",
   "execution_count": 10,
   "id": "b474ce2b",
   "metadata": {
    "scrolled": true
   },
   "outputs": [
    {
     "data": {
      "text/html": [
       "<div>\n",
       "<style scoped>\n",
       "    .dataframe tbody tr th:only-of-type {\n",
       "        vertical-align: middle;\n",
       "    }\n",
       "\n",
       "    .dataframe tbody tr th {\n",
       "        vertical-align: top;\n",
       "    }\n",
       "\n",
       "    .dataframe thead th {\n",
       "        text-align: right;\n",
       "    }\n",
       "</style>\n",
       "<table border=\"1\" class=\"dataframe\">\n",
       "  <thead>\n",
       "    <tr style=\"text-align: right;\">\n",
       "      <th></th>\n",
       "      <th>Invoice ID</th>\n",
       "      <th>Branch</th>\n",
       "      <th>City</th>\n",
       "      <th>Customer type</th>\n",
       "      <th>Gender</th>\n",
       "      <th>Product line</th>\n",
       "      <th>Unit price</th>\n",
       "      <th>Quantity</th>\n",
       "      <th>Tax 5%</th>\n",
       "      <th>Total</th>\n",
       "      <th>Payment</th>\n",
       "      <th>Rating</th>\n",
       "      <th>DateTime</th>\n",
       "      <th>day_name</th>\n",
       "      <th>Hour</th>\n",
       "      <th>day_period</th>\n",
       "    </tr>\n",
       "  </thead>\n",
       "  <tbody>\n",
       "    <tr>\n",
       "      <th>0</th>\n",
       "      <td>750-67-8428</td>\n",
       "      <td>A</td>\n",
       "      <td>Yangon</td>\n",
       "      <td>Member</td>\n",
       "      <td>Female</td>\n",
       "      <td>Health and beauty</td>\n",
       "      <td>74.69</td>\n",
       "      <td>7</td>\n",
       "      <td>26.1415</td>\n",
       "      <td>548.9715</td>\n",
       "      <td>Ewallet</td>\n",
       "      <td>9.1</td>\n",
       "      <td>2019-01-05 13:08:00</td>\n",
       "      <td>Saturday</td>\n",
       "      <td>13</td>\n",
       "      <td>Afternoon</td>\n",
       "    </tr>\n",
       "    <tr>\n",
       "      <th>1</th>\n",
       "      <td>226-31-3081</td>\n",
       "      <td>C</td>\n",
       "      <td>Naypyitaw</td>\n",
       "      <td>Normal</td>\n",
       "      <td>Female</td>\n",
       "      <td>Electronic accessories</td>\n",
       "      <td>15.28</td>\n",
       "      <td>5</td>\n",
       "      <td>3.8200</td>\n",
       "      <td>80.2200</td>\n",
       "      <td>Cash</td>\n",
       "      <td>9.6</td>\n",
       "      <td>2019-03-08 10:29:00</td>\n",
       "      <td>Friday</td>\n",
       "      <td>10</td>\n",
       "      <td>Morning</td>\n",
       "    </tr>\n",
       "    <tr>\n",
       "      <th>2</th>\n",
       "      <td>631-41-3108</td>\n",
       "      <td>A</td>\n",
       "      <td>Yangon</td>\n",
       "      <td>Normal</td>\n",
       "      <td>Male</td>\n",
       "      <td>Home and lifestyle</td>\n",
       "      <td>46.33</td>\n",
       "      <td>7</td>\n",
       "      <td>16.2155</td>\n",
       "      <td>340.5255</td>\n",
       "      <td>Credit card</td>\n",
       "      <td>7.4</td>\n",
       "      <td>2019-03-03 13:23:00</td>\n",
       "      <td>Sunday</td>\n",
       "      <td>13</td>\n",
       "      <td>Afternoon</td>\n",
       "    </tr>\n",
       "    <tr>\n",
       "      <th>3</th>\n",
       "      <td>123-19-1176</td>\n",
       "      <td>A</td>\n",
       "      <td>Yangon</td>\n",
       "      <td>Member</td>\n",
       "      <td>Male</td>\n",
       "      <td>Health and beauty</td>\n",
       "      <td>58.22</td>\n",
       "      <td>8</td>\n",
       "      <td>23.2880</td>\n",
       "      <td>489.0480</td>\n",
       "      <td>Ewallet</td>\n",
       "      <td>8.4</td>\n",
       "      <td>2019-01-27 20:33:00</td>\n",
       "      <td>Sunday</td>\n",
       "      <td>20</td>\n",
       "      <td>Evenning</td>\n",
       "    </tr>\n",
       "    <tr>\n",
       "      <th>4</th>\n",
       "      <td>373-73-7910</td>\n",
       "      <td>A</td>\n",
       "      <td>Yangon</td>\n",
       "      <td>Normal</td>\n",
       "      <td>Male</td>\n",
       "      <td>Sports and travel</td>\n",
       "      <td>86.31</td>\n",
       "      <td>7</td>\n",
       "      <td>30.2085</td>\n",
       "      <td>634.3785</td>\n",
       "      <td>Ewallet</td>\n",
       "      <td>5.3</td>\n",
       "      <td>2019-02-08 10:37:00</td>\n",
       "      <td>Friday</td>\n",
       "      <td>10</td>\n",
       "      <td>Morning</td>\n",
       "    </tr>\n",
       "    <tr>\n",
       "      <th>...</th>\n",
       "      <td>...</td>\n",
       "      <td>...</td>\n",
       "      <td>...</td>\n",
       "      <td>...</td>\n",
       "      <td>...</td>\n",
       "      <td>...</td>\n",
       "      <td>...</td>\n",
       "      <td>...</td>\n",
       "      <td>...</td>\n",
       "      <td>...</td>\n",
       "      <td>...</td>\n",
       "      <td>...</td>\n",
       "      <td>...</td>\n",
       "      <td>...</td>\n",
       "      <td>...</td>\n",
       "      <td>...</td>\n",
       "    </tr>\n",
       "    <tr>\n",
       "      <th>995</th>\n",
       "      <td>233-67-5758</td>\n",
       "      <td>C</td>\n",
       "      <td>Naypyitaw</td>\n",
       "      <td>Normal</td>\n",
       "      <td>Male</td>\n",
       "      <td>Health and beauty</td>\n",
       "      <td>40.35</td>\n",
       "      <td>1</td>\n",
       "      <td>2.0175</td>\n",
       "      <td>42.3675</td>\n",
       "      <td>Ewallet</td>\n",
       "      <td>6.2</td>\n",
       "      <td>2019-01-29 13:46:00</td>\n",
       "      <td>Tuesday</td>\n",
       "      <td>13</td>\n",
       "      <td>Afternoon</td>\n",
       "    </tr>\n",
       "    <tr>\n",
       "      <th>996</th>\n",
       "      <td>303-96-2227</td>\n",
       "      <td>B</td>\n",
       "      <td>Mandalay</td>\n",
       "      <td>Normal</td>\n",
       "      <td>Female</td>\n",
       "      <td>Home and lifestyle</td>\n",
       "      <td>97.38</td>\n",
       "      <td>10</td>\n",
       "      <td>48.6900</td>\n",
       "      <td>1022.4900</td>\n",
       "      <td>Ewallet</td>\n",
       "      <td>4.4</td>\n",
       "      <td>2019-03-02 17:16:00</td>\n",
       "      <td>Saturday</td>\n",
       "      <td>17</td>\n",
       "      <td>Afternoon</td>\n",
       "    </tr>\n",
       "    <tr>\n",
       "      <th>997</th>\n",
       "      <td>727-02-1313</td>\n",
       "      <td>A</td>\n",
       "      <td>Yangon</td>\n",
       "      <td>Member</td>\n",
       "      <td>Male</td>\n",
       "      <td>Food and beverages</td>\n",
       "      <td>31.84</td>\n",
       "      <td>1</td>\n",
       "      <td>1.5920</td>\n",
       "      <td>33.4320</td>\n",
       "      <td>Cash</td>\n",
       "      <td>7.7</td>\n",
       "      <td>2019-02-09 13:22:00</td>\n",
       "      <td>Saturday</td>\n",
       "      <td>13</td>\n",
       "      <td>Afternoon</td>\n",
       "    </tr>\n",
       "    <tr>\n",
       "      <th>998</th>\n",
       "      <td>347-56-2442</td>\n",
       "      <td>A</td>\n",
       "      <td>Yangon</td>\n",
       "      <td>Normal</td>\n",
       "      <td>Male</td>\n",
       "      <td>Home and lifestyle</td>\n",
       "      <td>65.82</td>\n",
       "      <td>1</td>\n",
       "      <td>3.2910</td>\n",
       "      <td>69.1110</td>\n",
       "      <td>Cash</td>\n",
       "      <td>4.1</td>\n",
       "      <td>2019-02-22 15:33:00</td>\n",
       "      <td>Friday</td>\n",
       "      <td>15</td>\n",
       "      <td>Afternoon</td>\n",
       "    </tr>\n",
       "    <tr>\n",
       "      <th>999</th>\n",
       "      <td>849-09-3807</td>\n",
       "      <td>A</td>\n",
       "      <td>Yangon</td>\n",
       "      <td>Member</td>\n",
       "      <td>Female</td>\n",
       "      <td>Fashion accessories</td>\n",
       "      <td>88.34</td>\n",
       "      <td>7</td>\n",
       "      <td>30.9190</td>\n",
       "      <td>649.2990</td>\n",
       "      <td>Cash</td>\n",
       "      <td>6.6</td>\n",
       "      <td>2019-02-18 13:28:00</td>\n",
       "      <td>Monday</td>\n",
       "      <td>13</td>\n",
       "      <td>Afternoon</td>\n",
       "    </tr>\n",
       "  </tbody>\n",
       "</table>\n",
       "<p>1000 rows × 16 columns</p>\n",
       "</div>"
      ],
      "text/plain": [
       "      Invoice ID Branch       City Customer type  Gender  \\\n",
       "0    750-67-8428      A     Yangon        Member  Female   \n",
       "1    226-31-3081      C  Naypyitaw        Normal  Female   \n",
       "2    631-41-3108      A     Yangon        Normal    Male   \n",
       "3    123-19-1176      A     Yangon        Member    Male   \n",
       "4    373-73-7910      A     Yangon        Normal    Male   \n",
       "..           ...    ...        ...           ...     ...   \n",
       "995  233-67-5758      C  Naypyitaw        Normal    Male   \n",
       "996  303-96-2227      B   Mandalay        Normal  Female   \n",
       "997  727-02-1313      A     Yangon        Member    Male   \n",
       "998  347-56-2442      A     Yangon        Normal    Male   \n",
       "999  849-09-3807      A     Yangon        Member  Female   \n",
       "\n",
       "               Product line  Unit price  Quantity   Tax 5%      Total  \\\n",
       "0         Health and beauty       74.69         7  26.1415   548.9715   \n",
       "1    Electronic accessories       15.28         5   3.8200    80.2200   \n",
       "2        Home and lifestyle       46.33         7  16.2155   340.5255   \n",
       "3         Health and beauty       58.22         8  23.2880   489.0480   \n",
       "4         Sports and travel       86.31         7  30.2085   634.3785   \n",
       "..                      ...         ...       ...      ...        ...   \n",
       "995       Health and beauty       40.35         1   2.0175    42.3675   \n",
       "996      Home and lifestyle       97.38        10  48.6900  1022.4900   \n",
       "997      Food and beverages       31.84         1   1.5920    33.4320   \n",
       "998      Home and lifestyle       65.82         1   3.2910    69.1110   \n",
       "999     Fashion accessories       88.34         7  30.9190   649.2990   \n",
       "\n",
       "         Payment  Rating            DateTime  day_name  Hour day_period  \n",
       "0        Ewallet     9.1 2019-01-05 13:08:00  Saturday    13  Afternoon  \n",
       "1           Cash     9.6 2019-03-08 10:29:00    Friday    10    Morning  \n",
       "2    Credit card     7.4 2019-03-03 13:23:00    Sunday    13  Afternoon  \n",
       "3        Ewallet     8.4 2019-01-27 20:33:00    Sunday    20   Evenning  \n",
       "4        Ewallet     5.3 2019-02-08 10:37:00    Friday    10    Morning  \n",
       "..           ...     ...                 ...       ...   ...        ...  \n",
       "995      Ewallet     6.2 2019-01-29 13:46:00   Tuesday    13  Afternoon  \n",
       "996      Ewallet     4.4 2019-03-02 17:16:00  Saturday    17  Afternoon  \n",
       "997         Cash     7.7 2019-02-09 13:22:00  Saturday    13  Afternoon  \n",
       "998         Cash     4.1 2019-02-22 15:33:00    Friday    15  Afternoon  \n",
       "999         Cash     6.6 2019-02-18 13:28:00    Monday    13  Afternoon  \n",
       "\n",
       "[1000 rows x 16 columns]"
      ]
     },
     "execution_count": 10,
     "metadata": {},
     "output_type": "execute_result"
    }
   ],
   "source": [
    "def time(clk):\n",
    "    if clk in range(0,12):\n",
    "        return 'Morning'\n",
    "    elif clk in range(12,18):\n",
    "        return 'Afternoon'\n",
    "    elif clk in range(18,22):\n",
    "        return 'Evenning'\n",
    "    elif clk in range(22,24):\n",
    "        return 'Night'\n",
    "df['day_period']=df['Hour'].apply(time)\n",
    "df"
   ]
  },
  {
   "cell_type": "markdown",
   "id": "abb333f8",
   "metadata": {},
   "source": [
    "# Note:"
   ]
  },
  {
   "cell_type": "markdown",
   "id": "66df9d8d",
   "metadata": {},
   "source": [
    "- i will make analysis on each branch individually then at the end i will make a comparison between the three branches."
   ]
  },
  {
   "cell_type": "markdown",
   "id": "77b6d2f7",
   "metadata": {},
   "source": [
    "# Analysis on Branch A:"
   ]
  },
  {
   "cell_type": "markdown",
   "id": "03df27df",
   "metadata": {},
   "source": [
    "- this branch places in Yangon City"
   ]
  },
  {
   "cell_type": "code",
   "execution_count": 11,
   "id": "25d9b935",
   "metadata": {
    "scrolled": true
   },
   "outputs": [
    {
     "data": {
      "text/html": [
       "<div>\n",
       "<style scoped>\n",
       "    .dataframe tbody tr th:only-of-type {\n",
       "        vertical-align: middle;\n",
       "    }\n",
       "\n",
       "    .dataframe tbody tr th {\n",
       "        vertical-align: top;\n",
       "    }\n",
       "\n",
       "    .dataframe thead th {\n",
       "        text-align: right;\n",
       "    }\n",
       "</style>\n",
       "<table border=\"1\" class=\"dataframe\">\n",
       "  <thead>\n",
       "    <tr style=\"text-align: right;\">\n",
       "      <th></th>\n",
       "      <th>Invoice ID</th>\n",
       "      <th>Branch</th>\n",
       "      <th>City</th>\n",
       "      <th>Customer type</th>\n",
       "      <th>Gender</th>\n",
       "      <th>Product line</th>\n",
       "      <th>Unit price</th>\n",
       "      <th>Quantity</th>\n",
       "      <th>Tax 5%</th>\n",
       "      <th>Total</th>\n",
       "      <th>Payment</th>\n",
       "      <th>Rating</th>\n",
       "      <th>DateTime</th>\n",
       "      <th>day_name</th>\n",
       "      <th>Hour</th>\n",
       "      <th>day_period</th>\n",
       "    </tr>\n",
       "  </thead>\n",
       "  <tbody>\n",
       "    <tr>\n",
       "      <th>0</th>\n",
       "      <td>750-67-8428</td>\n",
       "      <td>A</td>\n",
       "      <td>Yangon</td>\n",
       "      <td>Member</td>\n",
       "      <td>Female</td>\n",
       "      <td>Health and beauty</td>\n",
       "      <td>74.69</td>\n",
       "      <td>7</td>\n",
       "      <td>26.1415</td>\n",
       "      <td>548.9715</td>\n",
       "      <td>Ewallet</td>\n",
       "      <td>9.1</td>\n",
       "      <td>2019-01-05 13:08:00</td>\n",
       "      <td>Saturday</td>\n",
       "      <td>13</td>\n",
       "      <td>Afternoon</td>\n",
       "    </tr>\n",
       "    <tr>\n",
       "      <th>2</th>\n",
       "      <td>631-41-3108</td>\n",
       "      <td>A</td>\n",
       "      <td>Yangon</td>\n",
       "      <td>Normal</td>\n",
       "      <td>Male</td>\n",
       "      <td>Home and lifestyle</td>\n",
       "      <td>46.33</td>\n",
       "      <td>7</td>\n",
       "      <td>16.2155</td>\n",
       "      <td>340.5255</td>\n",
       "      <td>Credit card</td>\n",
       "      <td>7.4</td>\n",
       "      <td>2019-03-03 13:23:00</td>\n",
       "      <td>Sunday</td>\n",
       "      <td>13</td>\n",
       "      <td>Afternoon</td>\n",
       "    </tr>\n",
       "    <tr>\n",
       "      <th>3</th>\n",
       "      <td>123-19-1176</td>\n",
       "      <td>A</td>\n",
       "      <td>Yangon</td>\n",
       "      <td>Member</td>\n",
       "      <td>Male</td>\n",
       "      <td>Health and beauty</td>\n",
       "      <td>58.22</td>\n",
       "      <td>8</td>\n",
       "      <td>23.2880</td>\n",
       "      <td>489.0480</td>\n",
       "      <td>Ewallet</td>\n",
       "      <td>8.4</td>\n",
       "      <td>2019-01-27 20:33:00</td>\n",
       "      <td>Sunday</td>\n",
       "      <td>20</td>\n",
       "      <td>Evenning</td>\n",
       "    </tr>\n",
       "    <tr>\n",
       "      <th>4</th>\n",
       "      <td>373-73-7910</td>\n",
       "      <td>A</td>\n",
       "      <td>Yangon</td>\n",
       "      <td>Normal</td>\n",
       "      <td>Male</td>\n",
       "      <td>Sports and travel</td>\n",
       "      <td>86.31</td>\n",
       "      <td>7</td>\n",
       "      <td>30.2085</td>\n",
       "      <td>634.3785</td>\n",
       "      <td>Ewallet</td>\n",
       "      <td>5.3</td>\n",
       "      <td>2019-02-08 10:37:00</td>\n",
       "      <td>Friday</td>\n",
       "      <td>10</td>\n",
       "      <td>Morning</td>\n",
       "    </tr>\n",
       "    <tr>\n",
       "      <th>6</th>\n",
       "      <td>355-53-5943</td>\n",
       "      <td>A</td>\n",
       "      <td>Yangon</td>\n",
       "      <td>Member</td>\n",
       "      <td>Female</td>\n",
       "      <td>Electronic accessories</td>\n",
       "      <td>68.84</td>\n",
       "      <td>6</td>\n",
       "      <td>20.6520</td>\n",
       "      <td>433.6920</td>\n",
       "      <td>Ewallet</td>\n",
       "      <td>5.8</td>\n",
       "      <td>2019-02-25 14:36:00</td>\n",
       "      <td>Monday</td>\n",
       "      <td>14</td>\n",
       "      <td>Afternoon</td>\n",
       "    </tr>\n",
       "    <tr>\n",
       "      <th>...</th>\n",
       "      <td>...</td>\n",
       "      <td>...</td>\n",
       "      <td>...</td>\n",
       "      <td>...</td>\n",
       "      <td>...</td>\n",
       "      <td>...</td>\n",
       "      <td>...</td>\n",
       "      <td>...</td>\n",
       "      <td>...</td>\n",
       "      <td>...</td>\n",
       "      <td>...</td>\n",
       "      <td>...</td>\n",
       "      <td>...</td>\n",
       "      <td>...</td>\n",
       "      <td>...</td>\n",
       "      <td>...</td>\n",
       "    </tr>\n",
       "    <tr>\n",
       "      <th>990</th>\n",
       "      <td>886-18-2897</td>\n",
       "      <td>A</td>\n",
       "      <td>Yangon</td>\n",
       "      <td>Normal</td>\n",
       "      <td>Female</td>\n",
       "      <td>Food and beverages</td>\n",
       "      <td>56.56</td>\n",
       "      <td>5</td>\n",
       "      <td>14.1400</td>\n",
       "      <td>296.9400</td>\n",
       "      <td>Credit card</td>\n",
       "      <td>4.5</td>\n",
       "      <td>2019-03-22 19:06:00</td>\n",
       "      <td>Friday</td>\n",
       "      <td>19</td>\n",
       "      <td>Evenning</td>\n",
       "    </tr>\n",
       "    <tr>\n",
       "      <th>992</th>\n",
       "      <td>745-74-0715</td>\n",
       "      <td>A</td>\n",
       "      <td>Yangon</td>\n",
       "      <td>Normal</td>\n",
       "      <td>Male</td>\n",
       "      <td>Electronic accessories</td>\n",
       "      <td>58.03</td>\n",
       "      <td>2</td>\n",
       "      <td>5.8030</td>\n",
       "      <td>121.8630</td>\n",
       "      <td>Ewallet</td>\n",
       "      <td>8.8</td>\n",
       "      <td>2019-03-10 20:46:00</td>\n",
       "      <td>Sunday</td>\n",
       "      <td>20</td>\n",
       "      <td>Evenning</td>\n",
       "    </tr>\n",
       "    <tr>\n",
       "      <th>997</th>\n",
       "      <td>727-02-1313</td>\n",
       "      <td>A</td>\n",
       "      <td>Yangon</td>\n",
       "      <td>Member</td>\n",
       "      <td>Male</td>\n",
       "      <td>Food and beverages</td>\n",
       "      <td>31.84</td>\n",
       "      <td>1</td>\n",
       "      <td>1.5920</td>\n",
       "      <td>33.4320</td>\n",
       "      <td>Cash</td>\n",
       "      <td>7.7</td>\n",
       "      <td>2019-02-09 13:22:00</td>\n",
       "      <td>Saturday</td>\n",
       "      <td>13</td>\n",
       "      <td>Afternoon</td>\n",
       "    </tr>\n",
       "    <tr>\n",
       "      <th>998</th>\n",
       "      <td>347-56-2442</td>\n",
       "      <td>A</td>\n",
       "      <td>Yangon</td>\n",
       "      <td>Normal</td>\n",
       "      <td>Male</td>\n",
       "      <td>Home and lifestyle</td>\n",
       "      <td>65.82</td>\n",
       "      <td>1</td>\n",
       "      <td>3.2910</td>\n",
       "      <td>69.1110</td>\n",
       "      <td>Cash</td>\n",
       "      <td>4.1</td>\n",
       "      <td>2019-02-22 15:33:00</td>\n",
       "      <td>Friday</td>\n",
       "      <td>15</td>\n",
       "      <td>Afternoon</td>\n",
       "    </tr>\n",
       "    <tr>\n",
       "      <th>999</th>\n",
       "      <td>849-09-3807</td>\n",
       "      <td>A</td>\n",
       "      <td>Yangon</td>\n",
       "      <td>Member</td>\n",
       "      <td>Female</td>\n",
       "      <td>Fashion accessories</td>\n",
       "      <td>88.34</td>\n",
       "      <td>7</td>\n",
       "      <td>30.9190</td>\n",
       "      <td>649.2990</td>\n",
       "      <td>Cash</td>\n",
       "      <td>6.6</td>\n",
       "      <td>2019-02-18 13:28:00</td>\n",
       "      <td>Monday</td>\n",
       "      <td>13</td>\n",
       "      <td>Afternoon</td>\n",
       "    </tr>\n",
       "  </tbody>\n",
       "</table>\n",
       "<p>340 rows × 16 columns</p>\n",
       "</div>"
      ],
      "text/plain": [
       "      Invoice ID Branch    City Customer type  Gender            Product line  \\\n",
       "0    750-67-8428      A  Yangon        Member  Female       Health and beauty   \n",
       "2    631-41-3108      A  Yangon        Normal    Male      Home and lifestyle   \n",
       "3    123-19-1176      A  Yangon        Member    Male       Health and beauty   \n",
       "4    373-73-7910      A  Yangon        Normal    Male       Sports and travel   \n",
       "6    355-53-5943      A  Yangon        Member  Female  Electronic accessories   \n",
       "..           ...    ...     ...           ...     ...                     ...   \n",
       "990  886-18-2897      A  Yangon        Normal  Female      Food and beverages   \n",
       "992  745-74-0715      A  Yangon        Normal    Male  Electronic accessories   \n",
       "997  727-02-1313      A  Yangon        Member    Male      Food and beverages   \n",
       "998  347-56-2442      A  Yangon        Normal    Male      Home and lifestyle   \n",
       "999  849-09-3807      A  Yangon        Member  Female     Fashion accessories   \n",
       "\n",
       "     Unit price  Quantity   Tax 5%     Total      Payment  Rating  \\\n",
       "0         74.69         7  26.1415  548.9715      Ewallet     9.1   \n",
       "2         46.33         7  16.2155  340.5255  Credit card     7.4   \n",
       "3         58.22         8  23.2880  489.0480      Ewallet     8.4   \n",
       "4         86.31         7  30.2085  634.3785      Ewallet     5.3   \n",
       "6         68.84         6  20.6520  433.6920      Ewallet     5.8   \n",
       "..          ...       ...      ...       ...          ...     ...   \n",
       "990       56.56         5  14.1400  296.9400  Credit card     4.5   \n",
       "992       58.03         2   5.8030  121.8630      Ewallet     8.8   \n",
       "997       31.84         1   1.5920   33.4320         Cash     7.7   \n",
       "998       65.82         1   3.2910   69.1110         Cash     4.1   \n",
       "999       88.34         7  30.9190  649.2990         Cash     6.6   \n",
       "\n",
       "               DateTime  day_name  Hour day_period  \n",
       "0   2019-01-05 13:08:00  Saturday    13  Afternoon  \n",
       "2   2019-03-03 13:23:00    Sunday    13  Afternoon  \n",
       "3   2019-01-27 20:33:00    Sunday    20   Evenning  \n",
       "4   2019-02-08 10:37:00    Friday    10    Morning  \n",
       "6   2019-02-25 14:36:00    Monday    14  Afternoon  \n",
       "..                  ...       ...   ...        ...  \n",
       "990 2019-03-22 19:06:00    Friday    19   Evenning  \n",
       "992 2019-03-10 20:46:00    Sunday    20   Evenning  \n",
       "997 2019-02-09 13:22:00  Saturday    13  Afternoon  \n",
       "998 2019-02-22 15:33:00    Friday    15  Afternoon  \n",
       "999 2019-02-18 13:28:00    Monday    13  Afternoon  \n",
       "\n",
       "[340 rows x 16 columns]"
      ]
     },
     "execution_count": 11,
     "metadata": {},
     "output_type": "execute_result"
    }
   ],
   "source": [
    "df_A=df[df['Branch']=='A']\n",
    "df_A"
   ]
  },
  {
   "cell_type": "code",
   "execution_count": 12,
   "id": "fbfe1a8b",
   "metadata": {
    "scrolled": true
   },
   "outputs": [
    {
     "data": {
      "text/plain": [
       "34.0"
      ]
     },
     "execution_count": 12,
     "metadata": {},
     "output_type": "execute_result"
    }
   ],
   "source": [
    "perc=len(df_A.index)/len(df.index)*100\n",
    "perc"
   ]
  },
  {
   "cell_type": "markdown",
   "id": "374bd612",
   "metadata": {},
   "source": [
    "- This means that branch A that locates in Yangon city contains 34% from the total Customers."
   ]
  },
  {
   "cell_type": "code",
   "execution_count": 13,
   "id": "cae20b4f",
   "metadata": {
    "scrolled": true
   },
   "outputs": [
    {
     "data": {
      "text/plain": [
       "Customer type\n",
       "Member    167\n",
       "Normal    173\n",
       "Name: Invoice ID, dtype: int64"
      ]
     },
     "execution_count": 13,
     "metadata": {},
     "output_type": "execute_result"
    }
   ],
   "source": [
    "df_A.groupby('Customer type').count()['Invoice ID']"
   ]
  },
  {
   "cell_type": "code",
   "execution_count": 14,
   "id": "81803bb0",
   "metadata": {
    "scrolled": false
   },
   "outputs": [
    {
     "data": {
      "text/plain": [
       "<AxesSubplot:xlabel='Customer type', ylabel='count'>"
      ]
     },
     "execution_count": 14,
     "metadata": {},
     "output_type": "execute_result"
    },
    {
     "data": {
      "image/png": "[encoded data removed]",
      "text/plain": [
       "<Figure size 432x288 with 1 Axes>"
      ]
     },
     "metadata": {
      "needs_background": "light"
     },
     "output_type": "display_data"
    }
   ],
   "source": [
    "sns.countplot(data=df_A,x='Customer type')"
   ]
  },
  {
   "cell_type": "code",
   "execution_count": 15,
   "id": "ffb28e3d",
   "metadata": {
    "scrolled": false
   },
   "outputs": [
    {
     "data": {
      "text/plain": [
       "49.11764705882353"
      ]
     },
     "execution_count": 15,
     "metadata": {},
     "output_type": "execute_result"
    }
   ],
   "source": [
    "df_A.groupby('Customer type').count()['Invoice ID']['Member']/len(df_A.index)*100"
   ]
  },
  {
   "cell_type": "code",
   "execution_count": 16,
   "id": "6d189502",
   "metadata": {
    "scrolled": false
   },
   "outputs": [
    {
     "data": {
      "text/plain": [
       "50.882352941176464"
      ]
     },
     "execution_count": 16,
     "metadata": {},
     "output_type": "execute_result"
    }
   ],
   "source": [
    "df_A.groupby('Customer type').count()['Invoice ID']['Normal']/len(df_A.index)*100"
   ]
  },
  {
   "cell_type": "markdown",
   "id": "f5ff4908",
   "metadata": {},
   "source": [
    "- This means that Member customers represents 49.1% from the total customers that come to this branch and normal customer represents 50.9%.And this indicates that this branch doesn't depend only on member customers or normal customers both of them are important to this branch."
   ]
  },
  {
   "cell_type": "code",
   "execution_count": 17,
   "id": "1930a1ea",
   "metadata": {
    "scrolled": true
   },
   "outputs": [
    {
     "data": {
      "text/plain": [
       "Customer type\n",
       "Member    53637.4755\n",
       "Normal    52562.8950\n",
       "Name: Total, dtype: float64"
      ]
     },
     "execution_count": 17,
     "metadata": {},
     "output_type": "execute_result"
    }
   ],
   "source": [
    "df_A.groupby('Customer type').sum()['Total']"
   ]
  },
  {
   "cell_type": "code",
   "execution_count": 18,
   "id": "9eccc174",
   "metadata": {},
   "outputs": [
    {
     "data": {
      "text/plain": [
       "<AxesSubplot:xlabel='Customer type', ylabel='Total'>"
      ]
     },
     "execution_count": 18,
     "metadata": {},
     "output_type": "execute_result"
    },
    {
     "data": {
      "image/png": "[encoded data removed]",
      "text/plain": [
       "<Figure size 432x288 with 1 Axes>"
      ]
     },
     "metadata": {
      "needs_background": "light"
     },
     "output_type": "display_data"
    }
   ],
   "source": [
    "sns.barplot(data=df_A,x='Customer type',y='Total',estimator=np.sum)"
   ]
  },
  {
   "cell_type": "code",
   "execution_count": 19,
   "id": "d7389508",
   "metadata": {
    "scrolled": false
   },
   "outputs": [
    {
     "data": {
      "text/plain": [
       "50.50592125759109"
      ]
     },
     "execution_count": 19,
     "metadata": {},
     "output_type": "execute_result"
    }
   ],
   "source": [
    "df_A.groupby('Customer type').sum()['Total']['Member']/df_A['Total'].sum()*100"
   ]
  },
  {
   "cell_type": "code",
   "execution_count": 20,
   "id": "5ed91288",
   "metadata": {
    "scrolled": true
   },
   "outputs": [
    {
     "data": {
      "text/plain": [
       "49.4940787424089"
      ]
     },
     "execution_count": 20,
     "metadata": {},
     "output_type": "execute_result"
    }
   ],
   "source": [
    "df_A.groupby('Customer type').sum()['Total']['Normal']/df_A['Total'].sum()*100"
   ]
  },
  {
   "cell_type": "markdown",
   "id": "0b783fc6",
   "metadata": {},
   "source": [
    "- As we show before that the number of normal customers greater than member customers but this branch earn more from member customers.As 50.5% from total money of this branch from Member customers while 49.5% from total money of this branch from normal customers."
   ]
  },
  {
   "cell_type": "code",
   "execution_count": 21,
   "id": "b2f40dc2",
   "metadata": {
    "scrolled": false
   },
   "outputs": [
    {
     "data": {
      "text/plain": [
       "Gender\n",
       "Female    161\n",
       "Male      179\n",
       "Name: Invoice ID, dtype: int64"
      ]
     },
     "execution_count": 21,
     "metadata": {},
     "output_type": "execute_result"
    }
   ],
   "source": [
    "df_A.groupby('Gender').count()['Invoice ID']"
   ]
  },
  {
   "cell_type": "code",
   "execution_count": 22,
   "id": "4bf34c0d",
   "metadata": {
    "scrolled": false
   },
   "outputs": [
    {
     "data": {
      "text/plain": [
       "<AxesSubplot:xlabel='Gender', ylabel='count'>"
      ]
     },
     "execution_count": 22,
     "metadata": {},
     "output_type": "execute_result"
    },
    {
     "data": {
      "image/png": "[encoded data removed]",
      "text/plain": [
       "<Figure size 432x288 with 1 Axes>"
      ]
     },
     "metadata": {
      "needs_background": "light"
     },
     "output_type": "display_data"
    }
   ],
   "source": [
    "sns.countplot(data=df_A,x='Gender')"
   ]
  },
  {
   "cell_type": "code",
   "execution_count": 23,
   "id": "cea5706d",
   "metadata": {},
   "outputs": [
    {
     "data": {
      "text/plain": [
       "52.64705882352941"
      ]
     },
     "execution_count": 23,
     "metadata": {},
     "output_type": "execute_result"
    }
   ],
   "source": [
    "df_A.groupby('Gender').count()['Invoice ID']['Male']/len(df_A.index)*100"
   ]
  },
  {
   "cell_type": "code",
   "execution_count": 24,
   "id": "1a249902",
   "metadata": {
    "scrolled": false
   },
   "outputs": [
    {
     "data": {
      "text/plain": [
       "47.35294117647059"
      ]
     },
     "execution_count": 24,
     "metadata": {},
     "output_type": "execute_result"
    }
   ],
   "source": [
    "df_A.groupby('Gender').count()['Invoice ID']['Female']/len(df_A.index)*100"
   ]
  },
  {
   "cell_type": "markdown",
   "id": "719e2526",
   "metadata": {},
   "source": [
    "- This means that male customers represent 52.6% from the total customers that come to this branch and female customers represents nearly 47.4%.Also both of them are important to this branch."
   ]
  },
  {
   "cell_type": "code",
   "execution_count": 25,
   "id": "ad1ec7a8",
   "metadata": {},
   "outputs": [
    {
     "data": {
      "text/plain": [
       "Gender\n",
       "Female    53269.1670\n",
       "Male      52931.2035\n",
       "Name: Total, dtype: float64"
      ]
     },
     "execution_count": 25,
     "metadata": {},
     "output_type": "execute_result"
    }
   ],
   "source": [
    "df_A.groupby('Gender').sum()['Total']"
   ]
  },
  {
   "cell_type": "code",
   "execution_count": 26,
   "id": "2cb9fa6b",
   "metadata": {
    "scrolled": true
   },
   "outputs": [
    {
     "data": {
      "text/plain": [
       "<AxesSubplot:xlabel='Gender', ylabel='Total'>"
      ]
     },
     "execution_count": 26,
     "metadata": {},
     "output_type": "execute_result"
    },
    {
     "data": {
      "image/png": "[encoded data removed]",
      "text/plain": [
       "<Figure size 432x288 with 1 Axes>"
      ]
     },
     "metadata": {
      "needs_background": "light"
     },
     "output_type": "display_data"
    }
   ],
   "source": [
    "sns.barplot(data=df_A,x='Gender',y='Total',estimator=np.sum)"
   ]
  },
  {
   "cell_type": "code",
   "execution_count": 27,
   "id": "673a73f2",
   "metadata": {},
   "outputs": [
    {
     "data": {
      "text/plain": [
       "49.84088402968425"
      ]
     },
     "execution_count": 27,
     "metadata": {},
     "output_type": "execute_result"
    }
   ],
   "source": [
    "df_A.groupby('Gender').sum()['Total']['Male']/df_A['Total'].sum()*100"
   ]
  },
  {
   "cell_type": "code",
   "execution_count": 28,
   "id": "322e6511",
   "metadata": {},
   "outputs": [
    {
     "data": {
      "text/plain": [
       "50.159115970315746"
      ]
     },
     "execution_count": 28,
     "metadata": {},
     "output_type": "execute_result"
    }
   ],
   "source": [
    "df_A.groupby('Gender').sum()['Total']['Female']/df_A['Total'].sum()*100"
   ]
  },
  {
   "cell_type": "markdown",
   "id": "779cdd6a",
   "metadata": {},
   "source": [
    "- As we show that male customers more than female customers but this branch earn more from female customers.As 50.1% from total money of this branch from female customers while 49.9% from total money of this branch from male customers."
   ]
  },
  {
   "cell_type": "code",
   "execution_count": 29,
   "id": "7c0b8cac",
   "metadata": {},
   "outputs": [
    {
     "name": "stdout",
     "output_type": "stream",
     "text": [
      "the number of quantities sold for Electronic accessories product is 322\n",
      "the number of quantities sold for Fashion accessories product is 263\n",
      "the number of quantities sold for Food and beverages product is 313\n",
      "the number of quantities sold for Health and beauty product is 257\n",
      "the number of quantities sold for Home and lifestyle product is 371\n",
      "the number of quantities sold for Sports and travel product is 333\n"
     ]
    }
   ],
   "source": [
    "products_line=['Electronic accessories','Fashion accessories','Food and beverages','Health and beauty','Home and lifestyle','Sports and travel']\n",
    "for product in products_line:\n",
    "    sum_of_quantity=df_A[df_A['Product line']==product]['Quantity'].sum()\n",
    "    print(f\"the number of quantities sold for {product} product is {sum_of_quantity}\")\n",
    "\n"
   ]
  },
  {
   "cell_type": "markdown",
   "id": "08716f06",
   "metadata": {},
   "source": [
    "- This shows that the Home and lifestyle product is the most product that have been sold."
   ]
  },
  {
   "cell_type": "code",
   "execution_count": 30,
   "id": "18c4ceb4",
   "metadata": {
    "scrolled": false
   },
   "outputs": [
    {
     "data": {
      "text/plain": [
       "Product line\n",
       "Electronic accessories    18317.1135\n",
       "Fashion accessories       16332.5085\n",
       "Food and beverages        17163.1005\n",
       "Health and beauty         12597.7530\n",
       "Home and lifestyle        22417.1955\n",
       "Sports and travel         19372.6995\n",
       "Name: Total, dtype: float64"
      ]
     },
     "execution_count": 30,
     "metadata": {},
     "output_type": "execute_result"
    }
   ],
   "source": [
    "df_A.groupby('Product line').sum()['Total']"
   ]
  },
  {
   "cell_type": "code",
   "execution_count": 31,
   "id": "0ac42f84",
   "metadata": {
    "scrolled": true
   },
   "outputs": [
    {
     "data": {
      "text/plain": [
       "<AxesSubplot:xlabel='Total', ylabel='Product line'>"
      ]
     },
     "execution_count": 31,
     "metadata": {},
     "output_type": "execute_result"
    },
    {
     "data": {
      "image/png": "[encoded data removed]",
      "text/plain": [
       "<Figure size 432x288 with 1 Axes>"
      ]
     },
     "metadata": {
      "needs_background": "light"
     },
     "output_type": "display_data"
    }
   ],
   "source": [
    "sns.barplot(data=df_A,y='Product line',x='Total',estimator=np.sum)"
   ]
  },
  {
   "cell_type": "code",
   "execution_count": 32,
   "id": "081aa409",
   "metadata": {
    "scrolled": true
   },
   "outputs": [
    {
     "name": "stdout",
     "output_type": "stream",
     "text": [
      "Electronic accessories product represents 17.247692652823655% from total money of this branch.\n",
      "Fashion accessories product represents 15.378956234432344% from total money of this branch.\n",
      "Food and beverages product represents 16.161055200838494% from total money of this branch.\n",
      "Health and beauty product represents 11.862249576615177% from total money of this branch.\n",
      "Home and lifestyle product represents 21.108396698107565% from total money of this branch.\n",
      "Sports and travel product represents 18.24164963718276% from total money of this branch.\n"
     ]
    }
   ],
   "source": [
    "for product in products_line:\n",
    "    perc=df_A.groupby('Product line').sum()['Total'][product]/df_A['Total'].sum()*100\n",
    "    print(f\"{product} product represents {perc}% from total money of this branch.\")"
   ]
  },
  {
   "cell_type": "markdown",
   "id": "78f4148b",
   "metadata": {},
   "source": [
    "- This means that Electronic accessories represent 17.24% from total money of this branch and Fashion accessories reprensents 15.37% from total money of this branch and Food and beverages represents 16.16% from total money of this branch and Health and beauty represents 11.86 from total money of this branch and Home and lifestyle represents 21.10% from total money of this branch and Sports and travel represents 18.24 from total money of this branch.Therefore this branch earn more from Home and lifestyle product."
   ]
  },
  {
   "cell_type": "code",
   "execution_count": 33,
   "id": "f55be6fd",
   "metadata": {
    "scrolled": true
   },
   "outputs": [
    {
     "data": {
      "text/plain": [
       "32.882756763297635"
      ]
     },
     "execution_count": 33,
     "metadata": {},
     "output_type": "execute_result"
    }
   ],
   "source": [
    "df_A['Total'].sum()/df['Total'].sum()*100"
   ]
  },
  {
   "cell_type": "markdown",
   "id": "4f768976",
   "metadata": {},
   "source": [
    "- This means that this branch represents 32.88% from the total money of the supermarket.This is high percentage and means that how important is this branch"
   ]
  },
  {
   "cell_type": "code",
   "execution_count": 34,
   "id": "10871e81",
   "metadata": {
    "scrolled": false
   },
   "outputs": [
    {
     "data": {
      "text/plain": [
       "Product line\n",
       "Electronic accessories    6.911667\n",
       "Fashion accessories       6.878431\n",
       "Food and beverages        7.253448\n",
       "Health and beauty         6.900000\n",
       "Home and lifestyle        6.930769\n",
       "Sports and travel         7.257627\n",
       "Name: Rating, dtype: float64"
      ]
     },
     "execution_count": 34,
     "metadata": {},
     "output_type": "execute_result"
    }
   ],
   "source": [
    "df_A.groupby('Product line').mean()['Rating']"
   ]
  },
  {
   "cell_type": "code",
   "execution_count": 35,
   "id": "2c2cb342",
   "metadata": {
    "scrolled": false
   },
   "outputs": [
    {
     "data": {
      "text/plain": [
       "<AxesSubplot:xlabel='Rating', ylabel='Product line'>"
      ]
     },
     "execution_count": 35,
     "metadata": {},
     "output_type": "execute_result"
    },
    {
     "data": {
      "image/png": "[encoded data removed]",
      "text/plain": [
       "<Figure size 432x288 with 1 Axes>"
      ]
     },
     "metadata": {
      "needs_background": "light"
     },
     "output_type": "display_data"
    }
   ],
   "source": [
    "sns.barplot(data=df_A,y='Product line',x='Rating')"
   ]
  },
  {
   "cell_type": "code",
   "execution_count": 36,
   "id": "f78cab24",
   "metadata": {
    "scrolled": false
   },
   "outputs": [
    {
     "data": {
      "text/plain": [
       "7.027058823529413"
      ]
     },
     "execution_count": 36,
     "metadata": {},
     "output_type": "execute_result"
    }
   ],
   "source": [
    "df_A['Rating'].mean()"
   ]
  },
  {
   "cell_type": "markdown",
   "id": "b56945ce",
   "metadata": {},
   "source": [
    "- Average rating of this branch is 7 out of 10 i think it is good rate but need to be improved."
   ]
  },
  {
   "cell_type": "code",
   "execution_count": 37,
   "id": "10a34b05",
   "metadata": {
    "scrolled": true
   },
   "outputs": [
    {
     "data": {
      "text/plain": [
       "Payment\n",
       "Cash           110\n",
       "Credit card    104\n",
       "Ewallet        126\n",
       "Name: Invoice ID, dtype: int64"
      ]
     },
     "execution_count": 37,
     "metadata": {},
     "output_type": "execute_result"
    }
   ],
   "source": [
    "df_A.groupby('Payment').count()['Invoice ID']"
   ]
  },
  {
   "cell_type": "code",
   "execution_count": 38,
   "id": "f33d94cd",
   "metadata": {},
   "outputs": [
    {
     "data": {
      "text/plain": [
       "<AxesSubplot:xlabel='Payment', ylabel='count'>"
      ]
     },
     "execution_count": 38,
     "metadata": {},
     "output_type": "execute_result"
    },
    {
     "data": {
      "image/png": "[encoded data removed]",
      "text/plain": [
       "<Figure size 432x288 with 1 Axes>"
      ]
     },
     "metadata": {
      "needs_background": "light"
     },
     "output_type": "display_data"
    }
   ],
   "source": [
    "sns.countplot(data=df_A,x='Payment')"
   ]
  },
  {
   "cell_type": "markdown",
   "id": "717e606b",
   "metadata": {},
   "source": [
    "- This means that the most used payment method in this branch is ewallet."
   ]
  },
  {
   "cell_type": "code",
   "execution_count": 39,
   "id": "6775e14c",
   "metadata": {},
   "outputs": [
    {
     "data": {
      "text/plain": [
       "day_name\n",
       "Friday       50\n",
       "Monday       48\n",
       "Saturday     50\n",
       "Sunday       52\n",
       "Thursday     46\n",
       "Tuesday      51\n",
       "Wednesday    43\n",
       "Name: Invoice ID, dtype: int64"
      ]
     },
     "execution_count": 39,
     "metadata": {},
     "output_type": "execute_result"
    }
   ],
   "source": [
    "df_A.groupby('day_name').count()['Invoice ID']"
   ]
  },
  {
   "cell_type": "code",
   "execution_count": 40,
   "id": "e7407407",
   "metadata": {
    "scrolled": false
   },
   "outputs": [
    {
     "data": {
      "text/plain": [
       "<AxesSubplot:xlabel='count', ylabel='day_name'>"
      ]
     },
     "execution_count": 40,
     "metadata": {},
     "output_type": "execute_result"
    },
    {
     "data": {
      "image/png": "[encoded data removed]",
      "text/plain": [
       "<Figure size 432x288 with 1 Axes>"
      ]
     },
     "metadata": {
      "needs_background": "light"
     },
     "output_type": "display_data"
    }
   ],
   "source": [
    "sns.countplot(data=df_A,y='day_name')"
   ]
  },
  {
   "cell_type": "code",
   "execution_count": 41,
   "id": "f0d4ccb1",
   "metadata": {
    "scrolled": true
   },
   "outputs": [
    {
     "data": {
      "text/plain": [
       "day_name\n",
       "Sunday       17006.8185\n",
       "Saturday     16765.4130\n",
       "Thursday     15422.2740\n",
       "Tuesday      14955.2130\n",
       "Friday       14543.8650\n",
       "Monday       14239.0605\n",
       "Wednesday    13267.7265\n",
       "Name: Total, dtype: float64"
      ]
     },
     "execution_count": 41,
     "metadata": {},
     "output_type": "execute_result"
    }
   ],
   "source": [
    "df_A.groupby('day_name').sum()['Total'].sort_values(ascending=False)"
   ]
  },
  {
   "cell_type": "code",
   "execution_count": 42,
   "id": "14687b20",
   "metadata": {
    "scrolled": false
   },
   "outputs": [
    {
     "data": {
      "text/plain": [
       "<AxesSubplot:xlabel='Total', ylabel='day_name'>"
      ]
     },
     "execution_count": 42,
     "metadata": {},
     "output_type": "execute_result"
    },
    {
     "data": {
      "image/png": "[encoded data removed]",
      "text/plain": [
       "<Figure size 432x288 with 1 Axes>"
      ]
     },
     "metadata": {
      "needs_background": "light"
     },
     "output_type": "display_data"
    }
   ],
   "source": [
    "sns.barplot(data=df_A,y='day_name',x='Total',estimator=np.sum)"
   ]
  },
  {
   "cell_type": "markdown",
   "id": "ff3c48ae",
   "metadata": {},
   "source": [
    "- This means that the most day that customer visit to this branch is sunday and also this is the day that this branch earn more money on it"
   ]
  },
  {
   "cell_type": "code",
   "execution_count": 43,
   "id": "60fe6eaf",
   "metadata": {
    "scrolled": false
   },
   "outputs": [
    {
     "data": {
      "text/plain": [
       "day_period\n",
       "Afternoon    185\n",
       "Evenning      82\n",
       "Morning       73\n",
       "Name: Invoice ID, dtype: int64"
      ]
     },
     "execution_count": 43,
     "metadata": {},
     "output_type": "execute_result"
    }
   ],
   "source": [
    "df_A.groupby('day_period').count()['Invoice ID']"
   ]
  },
  {
   "cell_type": "code",
   "execution_count": 44,
   "id": "d29d2975",
   "metadata": {
    "scrolled": false
   },
   "outputs": [
    {
     "data": {
      "text/plain": [
       "<AxesSubplot:xlabel='count', ylabel='day_period'>"
      ]
     },
     "execution_count": 44,
     "metadata": {},
     "output_type": "execute_result"
    },
    {
     "data": {
      "image/png": "[encoded data removed]",
      "text/plain": [
       "<Figure size 432x288 with 1 Axes>"
      ]
     },
     "metadata": {
      "needs_background": "light"
     },
     "output_type": "display_data"
    }
   ],
   "source": [
    "sns.countplot(data=df_A,y='day_period')"
   ]
  },
  {
   "cell_type": "code",
   "execution_count": 45,
   "id": "2cbd81f2",
   "metadata": {
    "scrolled": false
   },
   "outputs": [
    {
     "data": {
      "text/plain": [
       "day_period\n",
       "Afternoon    59968.4085\n",
       "Evenning     23673.6570\n",
       "Morning      22558.3050\n",
       "Name: Total, dtype: float64"
      ]
     },
     "execution_count": 45,
     "metadata": {},
     "output_type": "execute_result"
    }
   ],
   "source": [
    "df_A.groupby('day_period').sum()['Total'].sort_values(ascending=False)"
   ]
  },
  {
   "cell_type": "code",
   "execution_count": 46,
   "id": "55fa2807",
   "metadata": {
    "scrolled": false
   },
   "outputs": [
    {
     "data": {
      "text/plain": [
       "<AxesSubplot:xlabel='Total', ylabel='day_period'>"
      ]
     },
     "execution_count": 46,
     "metadata": {},
     "output_type": "execute_result"
    },
    {
     "data": {
      "image/png": "[encoded data removed]",
      "text/plain": [
       "<Figure size 432x288 with 1 Axes>"
      ]
     },
     "metadata": {
      "needs_background": "light"
     },
     "output_type": "display_data"
    }
   ],
   "source": [
    "sns.barplot(data=df_A,y='day_period',x='Total',estimator=np.sum)"
   ]
  },
  {
   "cell_type": "code",
   "execution_count": 47,
   "id": "2ec9e1ed",
   "metadata": {
    "scrolled": true
   },
   "outputs": [
    {
     "data": {
      "text/plain": [
       "56.46723096884111"
      ]
     },
     "execution_count": 47,
     "metadata": {},
     "output_type": "execute_result"
    }
   ],
   "source": [
    "df_A.groupby('day_period').sum()['Total']['Afternoon']/df_A['Total'].sum()*100"
   ]
  },
  {
   "cell_type": "markdown",
   "id": "6528a367",
   "metadata": {},
   "source": [
    "- This shows that most of the customers visits this branch at afternoon and also this period earning about 56.46% from the total money that this branch earned.This shows how important is this period."
   ]
  },
  {
   "cell_type": "markdown",
   "id": "0cd9cbb8",
   "metadata": {},
   "source": [
    "# Analysis on Branch B:"
   ]
  },
  {
   "cell_type": "markdown",
   "id": "659499c3",
   "metadata": {},
   "source": [
    "- this branch places in Mandalay City"
   ]
  },
  {
   "cell_type": "code",
   "execution_count": 48,
   "id": "d5255b44",
   "metadata": {
    "scrolled": true
   },
   "outputs": [
    {
     "data": {
      "text/html": [
       "<div>\n",
       "<style scoped>\n",
       "    .dataframe tbody tr th:only-of-type {\n",
       "        vertical-align: middle;\n",
       "    }\n",
       "\n",
       "    .dataframe tbody tr th {\n",
       "        vertical-align: top;\n",
       "    }\n",
       "\n",
       "    .dataframe thead th {\n",
       "        text-align: right;\n",
       "    }\n",
       "</style>\n",
       "<table border=\"1\" class=\"dataframe\">\n",
       "  <thead>\n",
       "    <tr style=\"text-align: right;\">\n",
       "      <th></th>\n",
       "      <th>Invoice ID</th>\n",
       "      <th>Branch</th>\n",
       "      <th>City</th>\n",
       "      <th>Customer type</th>\n",
       "      <th>Gender</th>\n",
       "      <th>Product line</th>\n",
       "      <th>Unit price</th>\n",
       "      <th>Quantity</th>\n",
       "      <th>Tax 5%</th>\n",
       "      <th>Total</th>\n",
       "      <th>Payment</th>\n",
       "      <th>Rating</th>\n",
       "      <th>DateTime</th>\n",
       "      <th>day_name</th>\n",
       "      <th>Hour</th>\n",
       "      <th>day_period</th>\n",
       "    </tr>\n",
       "  </thead>\n",
       "  <tbody>\n",
       "    <tr>\n",
       "      <th>9</th>\n",
       "      <td>692-92-5582</td>\n",
       "      <td>B</td>\n",
       "      <td>Mandalay</td>\n",
       "      <td>Member</td>\n",
       "      <td>Female</td>\n",
       "      <td>Food and beverages</td>\n",
       "      <td>54.84</td>\n",
       "      <td>3</td>\n",
       "      <td>8.226</td>\n",
       "      <td>172.746</td>\n",
       "      <td>Credit card</td>\n",
       "      <td>5.9</td>\n",
       "      <td>2019-02-20 13:27:00</td>\n",
       "      <td>Wednesday</td>\n",
       "      <td>13</td>\n",
       "      <td>Afternoon</td>\n",
       "    </tr>\n",
       "    <tr>\n",
       "      <th>10</th>\n",
       "      <td>351-62-0822</td>\n",
       "      <td>B</td>\n",
       "      <td>Mandalay</td>\n",
       "      <td>Member</td>\n",
       "      <td>Female</td>\n",
       "      <td>Fashion accessories</td>\n",
       "      <td>14.48</td>\n",
       "      <td>4</td>\n",
       "      <td>2.896</td>\n",
       "      <td>60.816</td>\n",
       "      <td>Ewallet</td>\n",
       "      <td>4.5</td>\n",
       "      <td>2019-02-06 18:07:00</td>\n",
       "      <td>Wednesday</td>\n",
       "      <td>18</td>\n",
       "      <td>Evenning</td>\n",
       "    </tr>\n",
       "    <tr>\n",
       "      <th>11</th>\n",
       "      <td>529-56-3974</td>\n",
       "      <td>B</td>\n",
       "      <td>Mandalay</td>\n",
       "      <td>Member</td>\n",
       "      <td>Male</td>\n",
       "      <td>Electronic accessories</td>\n",
       "      <td>25.51</td>\n",
       "      <td>4</td>\n",
       "      <td>5.102</td>\n",
       "      <td>107.142</td>\n",
       "      <td>Cash</td>\n",
       "      <td>6.8</td>\n",
       "      <td>2019-03-09 17:03:00</td>\n",
       "      <td>Saturday</td>\n",
       "      <td>17</td>\n",
       "      <td>Afternoon</td>\n",
       "    </tr>\n",
       "    <tr>\n",
       "      <th>15</th>\n",
       "      <td>299-46-1805</td>\n",
       "      <td>B</td>\n",
       "      <td>Mandalay</td>\n",
       "      <td>Member</td>\n",
       "      <td>Female</td>\n",
       "      <td>Sports and travel</td>\n",
       "      <td>93.72</td>\n",
       "      <td>6</td>\n",
       "      <td>28.116</td>\n",
       "      <td>590.436</td>\n",
       "      <td>Cash</td>\n",
       "      <td>4.5</td>\n",
       "      <td>2019-01-15 16:19:00</td>\n",
       "      <td>Tuesday</td>\n",
       "      <td>16</td>\n",
       "      <td>Afternoon</td>\n",
       "    </tr>\n",
       "    <tr>\n",
       "      <th>19</th>\n",
       "      <td>319-50-3348</td>\n",
       "      <td>B</td>\n",
       "      <td>Mandalay</td>\n",
       "      <td>Normal</td>\n",
       "      <td>Female</td>\n",
       "      <td>Home and lifestyle</td>\n",
       "      <td>40.30</td>\n",
       "      <td>2</td>\n",
       "      <td>4.030</td>\n",
       "      <td>84.630</td>\n",
       "      <td>Ewallet</td>\n",
       "      <td>4.4</td>\n",
       "      <td>2019-03-11 15:30:00</td>\n",
       "      <td>Monday</td>\n",
       "      <td>15</td>\n",
       "      <td>Afternoon</td>\n",
       "    </tr>\n",
       "    <tr>\n",
       "      <th>...</th>\n",
       "      <td>...</td>\n",
       "      <td>...</td>\n",
       "      <td>...</td>\n",
       "      <td>...</td>\n",
       "      <td>...</td>\n",
       "      <td>...</td>\n",
       "      <td>...</td>\n",
       "      <td>...</td>\n",
       "      <td>...</td>\n",
       "      <td>...</td>\n",
       "      <td>...</td>\n",
       "      <td>...</td>\n",
       "      <td>...</td>\n",
       "      <td>...</td>\n",
       "      <td>...</td>\n",
       "      <td>...</td>\n",
       "    </tr>\n",
       "    <tr>\n",
       "      <th>987</th>\n",
       "      <td>552-44-5977</td>\n",
       "      <td>B</td>\n",
       "      <td>Mandalay</td>\n",
       "      <td>Member</td>\n",
       "      <td>Male</td>\n",
       "      <td>Health and beauty</td>\n",
       "      <td>62.00</td>\n",
       "      <td>8</td>\n",
       "      <td>24.800</td>\n",
       "      <td>520.800</td>\n",
       "      <td>Credit card</td>\n",
       "      <td>6.2</td>\n",
       "      <td>2019-01-03 19:08:00</td>\n",
       "      <td>Thursday</td>\n",
       "      <td>19</td>\n",
       "      <td>Evenning</td>\n",
       "    </tr>\n",
       "    <tr>\n",
       "      <th>989</th>\n",
       "      <td>430-53-4718</td>\n",
       "      <td>B</td>\n",
       "      <td>Mandalay</td>\n",
       "      <td>Member</td>\n",
       "      <td>Male</td>\n",
       "      <td>Health and beauty</td>\n",
       "      <td>75.37</td>\n",
       "      <td>8</td>\n",
       "      <td>30.148</td>\n",
       "      <td>633.108</td>\n",
       "      <td>Credit card</td>\n",
       "      <td>8.4</td>\n",
       "      <td>2019-01-28 15:46:00</td>\n",
       "      <td>Monday</td>\n",
       "      <td>15</td>\n",
       "      <td>Afternoon</td>\n",
       "    </tr>\n",
       "    <tr>\n",
       "      <th>991</th>\n",
       "      <td>602-16-6955</td>\n",
       "      <td>B</td>\n",
       "      <td>Mandalay</td>\n",
       "      <td>Normal</td>\n",
       "      <td>Female</td>\n",
       "      <td>Sports and travel</td>\n",
       "      <td>76.60</td>\n",
       "      <td>10</td>\n",
       "      <td>38.300</td>\n",
       "      <td>804.300</td>\n",
       "      <td>Ewallet</td>\n",
       "      <td>6.0</td>\n",
       "      <td>2019-01-24 18:10:00</td>\n",
       "      <td>Thursday</td>\n",
       "      <td>18</td>\n",
       "      <td>Evenning</td>\n",
       "    </tr>\n",
       "    <tr>\n",
       "      <th>993</th>\n",
       "      <td>690-01-6631</td>\n",
       "      <td>B</td>\n",
       "      <td>Mandalay</td>\n",
       "      <td>Normal</td>\n",
       "      <td>Male</td>\n",
       "      <td>Fashion accessories</td>\n",
       "      <td>17.49</td>\n",
       "      <td>10</td>\n",
       "      <td>8.745</td>\n",
       "      <td>183.645</td>\n",
       "      <td>Ewallet</td>\n",
       "      <td>6.6</td>\n",
       "      <td>2019-02-22 18:35:00</td>\n",
       "      <td>Friday</td>\n",
       "      <td>18</td>\n",
       "      <td>Evenning</td>\n",
       "    </tr>\n",
       "    <tr>\n",
       "      <th>996</th>\n",
       "      <td>303-96-2227</td>\n",
       "      <td>B</td>\n",
       "      <td>Mandalay</td>\n",
       "      <td>Normal</td>\n",
       "      <td>Female</td>\n",
       "      <td>Home and lifestyle</td>\n",
       "      <td>97.38</td>\n",
       "      <td>10</td>\n",
       "      <td>48.690</td>\n",
       "      <td>1022.490</td>\n",
       "      <td>Ewallet</td>\n",
       "      <td>4.4</td>\n",
       "      <td>2019-03-02 17:16:00</td>\n",
       "      <td>Saturday</td>\n",
       "      <td>17</td>\n",
       "      <td>Afternoon</td>\n",
       "    </tr>\n",
       "  </tbody>\n",
       "</table>\n",
       "<p>332 rows × 16 columns</p>\n",
       "</div>"
      ],
      "text/plain": [
       "      Invoice ID Branch      City Customer type  Gender  \\\n",
       "9    692-92-5582      B  Mandalay        Member  Female   \n",
       "10   351-62-0822      B  Mandalay        Member  Female   \n",
       "11   529-56-3974      B  Mandalay        Member    Male   \n",
       "15   299-46-1805      B  Mandalay        Member  Female   \n",
       "19   319-50-3348      B  Mandalay        Normal  Female   \n",
       "..           ...    ...       ...           ...     ...   \n",
       "987  552-44-5977      B  Mandalay        Member    Male   \n",
       "989  430-53-4718      B  Mandalay        Member    Male   \n",
       "991  602-16-6955      B  Mandalay        Normal  Female   \n",
       "993  690-01-6631      B  Mandalay        Normal    Male   \n",
       "996  303-96-2227      B  Mandalay        Normal  Female   \n",
       "\n",
       "               Product line  Unit price  Quantity  Tax 5%     Total  \\\n",
       "9        Food and beverages       54.84         3   8.226   172.746   \n",
       "10      Fashion accessories       14.48         4   2.896    60.816   \n",
       "11   Electronic accessories       25.51         4   5.102   107.142   \n",
       "15        Sports and travel       93.72         6  28.116   590.436   \n",
       "19       Home and lifestyle       40.30         2   4.030    84.630   \n",
       "..                      ...         ...       ...     ...       ...   \n",
       "987       Health and beauty       62.00         8  24.800   520.800   \n",
       "989       Health and beauty       75.37         8  30.148   633.108   \n",
       "991       Sports and travel       76.60        10  38.300   804.300   \n",
       "993     Fashion accessories       17.49        10   8.745   183.645   \n",
       "996      Home and lifestyle       97.38        10  48.690  1022.490   \n",
       "\n",
       "         Payment  Rating            DateTime   day_name  Hour day_period  \n",
       "9    Credit card     5.9 2019-02-20 13:27:00  Wednesday    13  Afternoon  \n",
       "10       Ewallet     4.5 2019-02-06 18:07:00  Wednesday    18   Evenning  \n",
       "11          Cash     6.8 2019-03-09 17:03:00   Saturday    17  Afternoon  \n",
       "15          Cash     4.5 2019-01-15 16:19:00    Tuesday    16  Afternoon  \n",
       "19       Ewallet     4.4 2019-03-11 15:30:00     Monday    15  Afternoon  \n",
       "..           ...     ...                 ...        ...   ...        ...  \n",
       "987  Credit card     6.2 2019-01-03 19:08:00   Thursday    19   Evenning  \n",
       "989  Credit card     8.4 2019-01-28 15:46:00     Monday    15  Afternoon  \n",
       "991      Ewallet     6.0 2019-01-24 18:10:00   Thursday    18   Evenning  \n",
       "993      Ewallet     6.6 2019-02-22 18:35:00     Friday    18   Evenning  \n",
       "996      Ewallet     4.4 2019-03-02 17:16:00   Saturday    17  Afternoon  \n",
       "\n",
       "[332 rows x 16 columns]"
      ]
     },
     "execution_count": 48,
     "metadata": {},
     "output_type": "execute_result"
    }
   ],
   "source": [
    "df_B=df[df['Branch']=='B']\n",
    "df_B"
   ]
  },
  {
   "cell_type": "code",
   "execution_count": 49,
   "id": "c8385139",
   "metadata": {},
   "outputs": [
    {
     "data": {
      "text/plain": [
       "33.2"
      ]
     },
     "execution_count": 49,
     "metadata": {},
     "output_type": "execute_result"
    }
   ],
   "source": [
    "perc=len(df_B.index)/len(df.index)*100\n",
    "perc"
   ]
  },
  {
   "cell_type": "markdown",
   "id": "dd085803",
   "metadata": {},
   "source": [
    "- This means that branch B that locates in Mandalay city contains 33.2% from the total Customers."
   ]
  },
  {
   "cell_type": "code",
   "execution_count": 50,
   "id": "6eb94402",
   "metadata": {
    "scrolled": true
   },
   "outputs": [
    {
     "data": {
      "text/plain": [
       "Customer type\n",
       "Member    165\n",
       "Normal    167\n",
       "Name: Invoice ID, dtype: int64"
      ]
     },
     "execution_count": 50,
     "metadata": {},
     "output_type": "execute_result"
    }
   ],
   "source": [
    "df_B.groupby('Customer type').count()['Invoice ID']"
   ]
  },
  {
   "cell_type": "code",
   "execution_count": 51,
   "id": "30aaca3f",
   "metadata": {
    "scrolled": false
   },
   "outputs": [
    {
     "data": {
      "text/plain": [
       "<AxesSubplot:xlabel='Customer type', ylabel='count'>"
      ]
     },
     "execution_count": 51,
     "metadata": {},
     "output_type": "execute_result"
    },
    {
     "data": {
      "image/png": "[encoded data removed]",
      "text/plain": [
       "<Figure size 432x288 with 1 Axes>"
      ]
     },
     "metadata": {
      "needs_background": "light"
     },
     "output_type": "display_data"
    }
   ],
   "source": [
    "sns.countplot(data=df_B,x='Customer type')"
   ]
  },
  {
   "cell_type": "code",
   "execution_count": 52,
   "id": "569252fe",
   "metadata": {
    "scrolled": false
   },
   "outputs": [
    {
     "data": {
      "text/plain": [
       "49.6987951807229"
      ]
     },
     "execution_count": 52,
     "metadata": {},
     "output_type": "execute_result"
    }
   ],
   "source": [
    "df_B.groupby('Customer type').count()['Invoice ID']['Member']/len(df_B.index)*100"
   ]
  },
  {
   "cell_type": "code",
   "execution_count": 53,
   "id": "f58a2f18",
   "metadata": {
    "scrolled": true
   },
   "outputs": [
    {
     "data": {
      "text/plain": [
       "50.30120481927711"
      ]
     },
     "execution_count": 53,
     "metadata": {},
     "output_type": "execute_result"
    }
   ],
   "source": [
    "df_B.groupby('Customer type').count()['Invoice ID']['Normal']/len(df_B.index)*100"
   ]
  },
  {
   "cell_type": "markdown",
   "id": "c739b596",
   "metadata": {},
   "source": [
    "- This means that Member customers represents 49.7% from the total customers that come to this branch and normal customer represents 50.3%.And this indicates that this branch doesn't depend only on member customers or normal customers both of them are important to this branch."
   ]
  },
  {
   "cell_type": "code",
   "execution_count": 54,
   "id": "bda11cc6",
   "metadata": {
    "scrolled": true
   },
   "outputs": [
    {
     "data": {
      "text/plain": [
       "Customer type\n",
       "Member    53704.686\n",
       "Normal    52492.986\n",
       "Name: Total, dtype: float64"
      ]
     },
     "execution_count": 54,
     "metadata": {},
     "output_type": "execute_result"
    }
   ],
   "source": [
    "df_B.groupby('Customer type').sum()['Total']"
   ]
  },
  {
   "cell_type": "code",
   "execution_count": 55,
   "id": "6dfa555c",
   "metadata": {},
   "outputs": [
    {
     "data": {
      "text/plain": [
       "<AxesSubplot:xlabel='Customer type', ylabel='Total'>"
      ]
     },
     "execution_count": 55,
     "metadata": {},
     "output_type": "execute_result"
    },
    {
     "data": {
      "image/png": "[encoded data removed]",
      "text/plain": [
       "<Figure size 432x288 with 1 Axes>"
      ]
     },
     "metadata": {
      "needs_background": "light"
     },
     "output_type": "display_data"
    }
   ],
   "source": [
    "sns.barplot(data=df_B,x='Customer type',y='Total',estimator=np.sum)"
   ]
  },
  {
   "cell_type": "code",
   "execution_count": 56,
   "id": "35ce7dba",
   "metadata": {
    "scrolled": false
   },
   "outputs": [
    {
     "data": {
      "text/plain": [
       "50.57049273170509"
      ]
     },
     "execution_count": 56,
     "metadata": {},
     "output_type": "execute_result"
    }
   ],
   "source": [
    "df_B.groupby('Customer type').sum()['Total']['Member']/df_B['Total'].sum()*100"
   ]
  },
  {
   "cell_type": "code",
   "execution_count": 57,
   "id": "d0a60cd5",
   "metadata": {
    "scrolled": true
   },
   "outputs": [
    {
     "data": {
      "text/plain": [
       "49.42950726829492"
      ]
     },
     "execution_count": 57,
     "metadata": {},
     "output_type": "execute_result"
    }
   ],
   "source": [
    "df_B.groupby('Customer type').sum()['Total']['Normal']/df_B['Total'].sum()*100"
   ]
  },
  {
   "cell_type": "markdown",
   "id": "818a720f",
   "metadata": {},
   "source": [
    "- As we show before that the number of normal customers greater than member customers but this branch earn more from member customers.As 50.6% from total money of this branch from Member customers while 49.4% from total money of this branch from normal customers."
   ]
  },
  {
   "cell_type": "code",
   "execution_count": 58,
   "id": "a9624ffb",
   "metadata": {
    "scrolled": false
   },
   "outputs": [
    {
     "data": {
      "text/plain": [
       "Gender\n",
       "Female    162\n",
       "Male      170\n",
       "Name: Invoice ID, dtype: int64"
      ]
     },
     "execution_count": 58,
     "metadata": {},
     "output_type": "execute_result"
    }
   ],
   "source": [
    "df_B.groupby('Gender').count()['Invoice ID']"
   ]
  },
  {
   "cell_type": "code",
   "execution_count": 59,
   "id": "6947ae2e",
   "metadata": {
    "scrolled": false
   },
   "outputs": [
    {
     "data": {
      "text/plain": [
       "<AxesSubplot:xlabel='Gender', ylabel='count'>"
      ]
     },
     "execution_count": 59,
     "metadata": {},
     "output_type": "execute_result"
    },
    {
     "data": {
      "image/png": "[encoded data removed]",
      "text/plain": [
       "<Figure size 432x288 with 1 Axes>"
      ]
     },
     "metadata": {
      "needs_background": "light"
     },
     "output_type": "display_data"
    }
   ],
   "source": [
    "sns.countplot(data=df_B,x='Gender')"
   ]
  },
  {
   "cell_type": "code",
   "execution_count": 60,
   "id": "dad3fcc3",
   "metadata": {},
   "outputs": [
    {
     "data": {
      "text/plain": [
       "51.204819277108435"
      ]
     },
     "execution_count": 60,
     "metadata": {},
     "output_type": "execute_result"
    }
   ],
   "source": [
    "df_B.groupby('Gender').count()['Invoice ID']['Male']/len(df_B.index)*100"
   ]
  },
  {
   "cell_type": "code",
   "execution_count": 61,
   "id": "67366f4a",
   "metadata": {
    "scrolled": true
   },
   "outputs": [
    {
     "data": {
      "text/plain": [
       "48.795180722891565"
      ]
     },
     "execution_count": 61,
     "metadata": {},
     "output_type": "execute_result"
    }
   ],
   "source": [
    "df_B.groupby('Gender').count()['Invoice ID']['Female']/len(df_B.index)*100"
   ]
  },
  {
   "cell_type": "markdown",
   "id": "d7ba9380",
   "metadata": {},
   "source": [
    "- This means that male customers represent 51.2% from the total customers that come to this branch and female customers represents nearly 48.8%.Also both of them are important to this branch."
   ]
  },
  {
   "cell_type": "code",
   "execution_count": 62,
   "id": "07464ec3",
   "metadata": {},
   "outputs": [
    {
     "data": {
      "text/plain": [
       "Gender\n",
       "Female    52928.295\n",
       "Male      53269.377\n",
       "Name: Total, dtype: float64"
      ]
     },
     "execution_count": 62,
     "metadata": {},
     "output_type": "execute_result"
    }
   ],
   "source": [
    "df_B.groupby('Gender').sum()['Total']"
   ]
  },
  {
   "cell_type": "code",
   "execution_count": 63,
   "id": "65f9735b",
   "metadata": {
    "scrolled": true
   },
   "outputs": [
    {
     "data": {
      "text/plain": [
       "<AxesSubplot:xlabel='Gender', ylabel='Total'>"
      ]
     },
     "execution_count": 63,
     "metadata": {},
     "output_type": "execute_result"
    },
    {
     "data": {
      "image/png": "[encoded data removed]",
      "text/plain": [
       "<Figure size 432x288 with 1 Axes>"
      ]
     },
     "metadata": {
      "needs_background": "light"
     },
     "output_type": "display_data"
    }
   ],
   "source": [
    "sns.barplot(data=df_B,x='Gender',y='Total',estimator=np.sum)"
   ]
  },
  {
   "cell_type": "code",
   "execution_count": 64,
   "id": "f74e3cec",
   "metadata": {},
   "outputs": [
    {
     "data": {
      "text/plain": [
       "50.16058826600267"
      ]
     },
     "execution_count": 64,
     "metadata": {},
     "output_type": "execute_result"
    }
   ],
   "source": [
    "df_B.groupby('Gender').sum()['Total']['Male']/df_B['Total'].sum()*100"
   ]
  },
  {
   "cell_type": "code",
   "execution_count": 65,
   "id": "e2476d8c",
   "metadata": {},
   "outputs": [
    {
     "data": {
      "text/plain": [
       "49.83941173399734"
      ]
     },
     "execution_count": 65,
     "metadata": {},
     "output_type": "execute_result"
    }
   ],
   "source": [
    "df_B.groupby('Gender').sum()['Total']['Female']/df_B['Total'].sum()*100"
   ]
  },
  {
   "cell_type": "markdown",
   "id": "d86c5b0b",
   "metadata": {},
   "source": [
    "- This branch earn more from male customers.As 50.1% from total money of this branch from male customers while 49.9% from total money of this branch from female customers."
   ]
  },
  {
   "cell_type": "code",
   "execution_count": 66,
   "id": "73769ec7",
   "metadata": {},
   "outputs": [
    {
     "name": "stdout",
     "output_type": "stream",
     "text": [
      "the number of quantities sold for Electronic accessories product is 316\n",
      "the number of quantities sold for Fashion accessories product is 297\n",
      "the number of quantities sold for Food and beverages product is 270\n",
      "the number of quantities sold for Health and beauty product is 320\n",
      "the number of quantities sold for Home and lifestyle product is 295\n",
      "the number of quantities sold for Sports and travel product is 322\n"
     ]
    }
   ],
   "source": [
    "products_line=['Electronic accessories','Fashion accessories','Food and beverages','Health and beauty','Home and lifestyle','Sports and travel']\n",
    "for product in products_line:\n",
    "    sum_of_quantity=df_B[df_B['Product line']==product]['Quantity'].sum()\n",
    "    print(f\"the number of quantities sold for {product} product is {sum_of_quantity}\")\n",
    "\n"
   ]
  },
  {
   "cell_type": "markdown",
   "id": "b16b7512",
   "metadata": {},
   "source": [
    "- This shows that the Sports and travel product is the most product that have been sold."
   ]
  },
  {
   "cell_type": "code",
   "execution_count": 67,
   "id": "7c80a8c0",
   "metadata": {
    "scrolled": true
   },
   "outputs": [
    {
     "data": {
      "text/plain": [
       "Product line\n",
       "Electronic accessories    17051.4435\n",
       "Fashion accessories       16413.3165\n",
       "Food and beverages        15214.8885\n",
       "Health and beauty         19980.6600\n",
       "Home and lifestyle        17549.1645\n",
       "Sports and travel         19988.1990\n",
       "Name: Total, dtype: float64"
      ]
     },
     "execution_count": 67,
     "metadata": {},
     "output_type": "execute_result"
    }
   ],
   "source": [
    "df_B.groupby('Product line').sum()['Total']"
   ]
  },
  {
   "cell_type": "code",
   "execution_count": 68,
   "id": "e3846402",
   "metadata": {
    "scrolled": true
   },
   "outputs": [
    {
     "data": {
      "text/plain": [
       "<AxesSubplot:xlabel='Total', ylabel='Product line'>"
      ]
     },
     "execution_count": 68,
     "metadata": {},
     "output_type": "execute_result"
    },
    {
     "data": {
      "image/png": "[encoded data removed]",
      "text/plain": [
       "<Figure size 432x288 with 1 Axes>"
      ]
     },
     "metadata": {
      "needs_background": "light"
     },
     "output_type": "display_data"
    }
   ],
   "source": [
    "sns.barplot(data=df_B,y='Product line',x='Total',estimator=np.sum)"
   ]
  },
  {
   "cell_type": "code",
   "execution_count": 69,
   "id": "1ce9e850",
   "metadata": {},
   "outputs": [
    {
     "name": "stdout",
     "output_type": "stream",
     "text": [
      "Electronic accessories product represents 16.056325133002918% from total money of this branch.\n",
      "Fashion accessories product represents 15.455439079681524% from total money of this branch.\n",
      "Food and beverages product represents 14.326951065367988% from total money of this branch.\n",
      "Health and beauty product represents 18.81459322385146% from total money of this branch.\n",
      "Home and lifestyle product represents 16.5249992485711% from total money of this branch.\n",
      "Sports and travel product represents 18.82169224952502% from total money of this branch.\n"
     ]
    }
   ],
   "source": [
    "for product in products_line:\n",
    "    perc=df_B.groupby('Product line').sum()['Total'][product]/df_B['Total'].sum()*100\n",
    "    print(f\"{product} product represents {perc}% from total money of this branch.\")"
   ]
  },
  {
   "cell_type": "markdown",
   "id": "da0694eb",
   "metadata": {},
   "source": [
    "- This means that Electronic accessories represents 16.05% from total money of this branch and Fashion accessories reprensents 15.45% from total money of this branch and Food and beverages represents 14.32% from total money of this branch and Health and beauty represents 18.81% from total money of this branch and Home and lifestyle represents 16.52% from total money of this branch and Sports and travel represents 18.82% from total money of this branch.Therefore this branch earn more from Sports and travel product."
   ]
  },
  {
   "cell_type": "code",
   "execution_count": 70,
   "id": "307a5f02",
   "metadata": {
    "scrolled": false
   },
   "outputs": [
    {
     "data": {
      "text/plain": [
       "32.88192122836769"
      ]
     },
     "execution_count": 70,
     "metadata": {},
     "output_type": "execute_result"
    }
   ],
   "source": [
    "df_B['Total'].sum()/df['Total'].sum()*100"
   ]
  },
  {
   "cell_type": "markdown",
   "id": "27c2eac6",
   "metadata": {},
   "source": [
    "- This means that this branch represents 32.88% from the total money of the supermarket.This is high percentage and means that how important is this branch"
   ]
  },
  {
   "cell_type": "code",
   "execution_count": 71,
   "id": "86b584e1",
   "metadata": {
    "scrolled": false
   },
   "outputs": [
    {
     "data": {
      "text/plain": [
       "Product line\n",
       "Electronic accessories    7.116364\n",
       "Fashion accessories       6.722581\n",
       "Food and beverages        6.994000\n",
       "Health and beauty         7.100000\n",
       "Home and lifestyle        6.516000\n",
       "Sports and travel         6.509677\n",
       "Name: Rating, dtype: float64"
      ]
     },
     "execution_count": 71,
     "metadata": {},
     "output_type": "execute_result"
    }
   ],
   "source": [
    "df_B.groupby('Product line').mean()['Rating']"
   ]
  },
  {
   "cell_type": "code",
   "execution_count": 72,
   "id": "c2732d47",
   "metadata": {
    "scrolled": true
   },
   "outputs": [
    {
     "data": {
      "text/plain": [
       "<AxesSubplot:xlabel='Rating', ylabel='Product line'>"
      ]
     },
     "execution_count": 72,
     "metadata": {},
     "output_type": "execute_result"
    },
    {
     "data": {
      "image/png": "[encoded data removed]",
      "text/plain": [
       "<Figure size 432x288 with 1 Axes>"
      ]
     },
     "metadata": {
      "needs_background": "light"
     },
     "output_type": "display_data"
    }
   ],
   "source": [
    "sns.barplot(data=df_B,y='Product line',x='Rating')"
   ]
  },
  {
   "cell_type": "code",
   "execution_count": 73,
   "id": "a18a0d9d",
   "metadata": {
    "scrolled": false
   },
   "outputs": [
    {
     "data": {
      "text/plain": [
       "6.8180722891566266"
      ]
     },
     "execution_count": 73,
     "metadata": {},
     "output_type": "execute_result"
    }
   ],
   "source": [
    "df_B['Rating'].mean()"
   ]
  },
  {
   "cell_type": "markdown",
   "id": "4207ce4a",
   "metadata": {},
   "source": [
    "- Average rating of this branch is 6.8 out of 10 it needs to be improved."
   ]
  },
  {
   "cell_type": "code",
   "execution_count": 74,
   "id": "07b18391",
   "metadata": {
    "scrolled": false
   },
   "outputs": [
    {
     "data": {
      "text/plain": [
       "Payment\n",
       "Cash           110\n",
       "Credit card    109\n",
       "Ewallet        113\n",
       "Name: Invoice ID, dtype: int64"
      ]
     },
     "execution_count": 74,
     "metadata": {},
     "output_type": "execute_result"
    }
   ],
   "source": [
    "df_B.groupby('Payment').count()['Invoice ID']"
   ]
  },
  {
   "cell_type": "code",
   "execution_count": 75,
   "id": "fca7e7a4",
   "metadata": {},
   "outputs": [
    {
     "data": {
      "text/plain": [
       "<AxesSubplot:xlabel='Payment', ylabel='count'>"
      ]
     },
     "execution_count": 75,
     "metadata": {},
     "output_type": "execute_result"
    },
    {
     "data": {
      "image/png": "[encoded data removed]",
      "text/plain": [
       "<Figure size 432x288 with 1 Axes>"
      ]
     },
     "metadata": {
      "needs_background": "light"
     },
     "output_type": "display_data"
    }
   ],
   "source": [
    "sns.countplot(data=df_B,x='Payment')"
   ]
  },
  {
   "cell_type": "markdown",
   "id": "17cc83b6",
   "metadata": {},
   "source": [
    "- This means that the most used payment method in this branch is ewallet."
   ]
  },
  {
   "cell_type": "code",
   "execution_count": 76,
   "id": "16929abf",
   "metadata": {
    "scrolled": true
   },
   "outputs": [
    {
     "data": {
      "text/plain": [
       "day_name\n",
       "Friday       51\n",
       "Monday       39\n",
       "Saturday     60\n",
       "Sunday       35\n",
       "Thursday     44\n",
       "Tuesday      53\n",
       "Wednesday    50\n",
       "Name: Invoice ID, dtype: int64"
      ]
     },
     "execution_count": 76,
     "metadata": {},
     "output_type": "execute_result"
    }
   ],
   "source": [
    "df_B.groupby('day_name').count()['Invoice ID']"
   ]
  },
  {
   "cell_type": "code",
   "execution_count": 77,
   "id": "16575037",
   "metadata": {
    "scrolled": true
   },
   "outputs": [
    {
     "data": {
      "text/plain": [
       "<AxesSubplot:xlabel='count', ylabel='day_name'>"
      ]
     },
     "execution_count": 77,
     "metadata": {},
     "output_type": "execute_result"
    },
    {
     "data": {
      "image/png": "[encoded data removed]",
      "text/plain": [
       "<Figure size 432x288 with 1 Axes>"
      ]
     },
     "metadata": {
      "needs_background": "light"
     },
     "output_type": "display_data"
    }
   ],
   "source": [
    "sns.countplot(data=df_B,y='day_name')"
   ]
  },
  {
   "cell_type": "code",
   "execution_count": 78,
   "id": "fd3d46b2",
   "metadata": {
    "scrolled": false
   },
   "outputs": [
    {
     "data": {
      "text/plain": [
       "day_name\n",
       "Saturday     21284.4240\n",
       "Tuesday      18859.2390\n",
       "Thursday     15778.6230\n",
       "Friday       14417.7600\n",
       "Monday       12734.7045\n",
       "Wednesday    12707.5935\n",
       "Sunday       10415.3280\n",
       "Name: Total, dtype: float64"
      ]
     },
     "execution_count": 78,
     "metadata": {},
     "output_type": "execute_result"
    }
   ],
   "source": [
    "df_B.groupby('day_name').sum()['Total'].sort_values(ascending=False)"
   ]
  },
  {
   "cell_type": "code",
   "execution_count": 79,
   "id": "11d70ac1",
   "metadata": {
    "scrolled": false
   },
   "outputs": [
    {
     "data": {
      "text/plain": [
       "<AxesSubplot:xlabel='Total', ylabel='day_name'>"
      ]
     },
     "execution_count": 79,
     "metadata": {},
     "output_type": "execute_result"
    },
    {
     "data": {
      "image/png": "[encoded data removed]",
      "text/plain": [
       "<Figure size 432x288 with 1 Axes>"
      ]
     },
     "metadata": {
      "needs_background": "light"
     },
     "output_type": "display_data"
    }
   ],
   "source": [
    "sns.barplot(data=df_B,y='day_name',x='Total',estimator=np.sum)"
   ]
  },
  {
   "cell_type": "markdown",
   "id": "5a9bfdba",
   "metadata": {},
   "source": [
    "- This means that the most day that customers visit to this branch is saturday and also this is the day that this branch earn more money on it"
   ]
  },
  {
   "cell_type": "code",
   "execution_count": 80,
   "id": "2eb0c1d6",
   "metadata": {
    "scrolled": false
   },
   "outputs": [
    {
     "data": {
      "text/plain": [
       "day_period\n",
       "Afternoon    162\n",
       "Evenning     111\n",
       "Morning       59\n",
       "Name: Invoice ID, dtype: int64"
      ]
     },
     "execution_count": 80,
     "metadata": {},
     "output_type": "execute_result"
    }
   ],
   "source": [
    "df_B.groupby('day_period').count()['Invoice ID']"
   ]
  },
  {
   "cell_type": "code",
   "execution_count": 81,
   "id": "6b371492",
   "metadata": {
    "scrolled": false
   },
   "outputs": [
    {
     "data": {
      "text/plain": [
       "<AxesSubplot:xlabel='count', ylabel='day_period'>"
      ]
     },
     "execution_count": 81,
     "metadata": {},
     "output_type": "execute_result"
    },
    {
     "data": {
      "image/png": "[encoded data removed]",
      "text/plain": [
       "<Figure size 432x288 with 1 Axes>"
      ]
     },
     "metadata": {
      "needs_background": "light"
     },
     "output_type": "display_data"
    }
   ],
   "source": [
    "sns.countplot(data=df_B,y='day_period')"
   ]
  },
  {
   "cell_type": "code",
   "execution_count": 82,
   "id": "f5ab9f82",
   "metadata": {
    "scrolled": true
   },
   "outputs": [
    {
     "data": {
      "text/plain": [
       "day_period\n",
       "Afternoon    53648.1645\n",
       "Evenning     33201.8505\n",
       "Morning      19347.6570\n",
       "Name: Total, dtype: float64"
      ]
     },
     "execution_count": 82,
     "metadata": {},
     "output_type": "execute_result"
    }
   ],
   "source": [
    "df_B.groupby('day_period').sum()['Total'].sort_values(ascending=False)"
   ]
  },
  {
   "cell_type": "code",
   "execution_count": 83,
   "id": "af934133",
   "metadata": {
    "scrolled": true
   },
   "outputs": [
    {
     "data": {
      "text/plain": [
       "<AxesSubplot:xlabel='Total', ylabel='day_period'>"
      ]
     },
     "execution_count": 83,
     "metadata": {},
     "output_type": "execute_result"
    },
    {
     "data": {
      "image/png": "[encoded data removed]",
      "text/plain": [
       "<Figure size 432x288 with 1 Axes>"
      ]
     },
     "metadata": {
      "needs_background": "light"
     },
     "output_type": "display_data"
    }
   ],
   "source": [
    "sns.barplot(data=df_B,y='day_period',x='Total',estimator=np.sum)"
   ]
  },
  {
   "cell_type": "code",
   "execution_count": 84,
   "id": "8932fc5e",
   "metadata": {
    "scrolled": true
   },
   "outputs": [
    {
     "data": {
      "text/plain": [
       "50.517269813598176"
      ]
     },
     "execution_count": 84,
     "metadata": {},
     "output_type": "execute_result"
    }
   ],
   "source": [
    "df_B.groupby('day_period').sum()['Total']['Afternoon']/df_B['Total'].sum()*100"
   ]
  },
  {
   "cell_type": "markdown",
   "id": "a75fc1ab",
   "metadata": {},
   "source": [
    "- This shows that most of the customers visits this branch at afternoon and also this period earning about 50.51% from the total money that this branch earned.This shows how important is this period."
   ]
  },
  {
   "cell_type": "markdown",
   "id": "9ac1e3a9",
   "metadata": {},
   "source": [
    "# Analysis on Branch C:"
   ]
  },
  {
   "cell_type": "markdown",
   "id": "6b4eda3a",
   "metadata": {},
   "source": [
    "- This branch locates in Naypyitaw city."
   ]
  },
  {
   "cell_type": "code",
   "execution_count": 85,
   "id": "9e70b17a",
   "metadata": {
    "scrolled": true
   },
   "outputs": [
    {
     "data": {
      "text/html": [
       "<div>\n",
       "<style scoped>\n",
       "    .dataframe tbody tr th:only-of-type {\n",
       "        vertical-align: middle;\n",
       "    }\n",
       "\n",
       "    .dataframe tbody tr th {\n",
       "        vertical-align: top;\n",
       "    }\n",
       "\n",
       "    .dataframe thead th {\n",
       "        text-align: right;\n",
       "    }\n",
       "</style>\n",
       "<table border=\"1\" class=\"dataframe\">\n",
       "  <thead>\n",
       "    <tr style=\"text-align: right;\">\n",
       "      <th></th>\n",
       "      <th>Invoice ID</th>\n",
       "      <th>Branch</th>\n",
       "      <th>City</th>\n",
       "      <th>Customer type</th>\n",
       "      <th>Gender</th>\n",
       "      <th>Product line</th>\n",
       "      <th>Unit price</th>\n",
       "      <th>Quantity</th>\n",
       "      <th>Tax 5%</th>\n",
       "      <th>Total</th>\n",
       "      <th>Payment</th>\n",
       "      <th>Rating</th>\n",
       "      <th>DateTime</th>\n",
       "      <th>day_name</th>\n",
       "      <th>Hour</th>\n",
       "      <th>day_period</th>\n",
       "    </tr>\n",
       "  </thead>\n",
       "  <tbody>\n",
       "    <tr>\n",
       "      <th>1</th>\n",
       "      <td>226-31-3081</td>\n",
       "      <td>C</td>\n",
       "      <td>Naypyitaw</td>\n",
       "      <td>Normal</td>\n",
       "      <td>Female</td>\n",
       "      <td>Electronic accessories</td>\n",
       "      <td>15.28</td>\n",
       "      <td>5</td>\n",
       "      <td>3.8200</td>\n",
       "      <td>80.2200</td>\n",
       "      <td>Cash</td>\n",
       "      <td>9.6</td>\n",
       "      <td>2019-03-08 10:29:00</td>\n",
       "      <td>Friday</td>\n",
       "      <td>10</td>\n",
       "      <td>Morning</td>\n",
       "    </tr>\n",
       "    <tr>\n",
       "      <th>5</th>\n",
       "      <td>699-14-3026</td>\n",
       "      <td>C</td>\n",
       "      <td>Naypyitaw</td>\n",
       "      <td>Normal</td>\n",
       "      <td>Male</td>\n",
       "      <td>Electronic accessories</td>\n",
       "      <td>85.39</td>\n",
       "      <td>7</td>\n",
       "      <td>29.8865</td>\n",
       "      <td>627.6165</td>\n",
       "      <td>Ewallet</td>\n",
       "      <td>4.1</td>\n",
       "      <td>2019-03-25 18:30:00</td>\n",
       "      <td>Monday</td>\n",
       "      <td>18</td>\n",
       "      <td>Evenning</td>\n",
       "    </tr>\n",
       "    <tr>\n",
       "      <th>7</th>\n",
       "      <td>315-22-5665</td>\n",
       "      <td>C</td>\n",
       "      <td>Naypyitaw</td>\n",
       "      <td>Normal</td>\n",
       "      <td>Female</td>\n",
       "      <td>Home and lifestyle</td>\n",
       "      <td>73.56</td>\n",
       "      <td>10</td>\n",
       "      <td>36.7800</td>\n",
       "      <td>772.3800</td>\n",
       "      <td>Ewallet</td>\n",
       "      <td>8.0</td>\n",
       "      <td>2019-02-24 11:38:00</td>\n",
       "      <td>Sunday</td>\n",
       "      <td>11</td>\n",
       "      <td>Morning</td>\n",
       "    </tr>\n",
       "    <tr>\n",
       "      <th>20</th>\n",
       "      <td>300-71-4605</td>\n",
       "      <td>C</td>\n",
       "      <td>Naypyitaw</td>\n",
       "      <td>Member</td>\n",
       "      <td>Male</td>\n",
       "      <td>Electronic accessories</td>\n",
       "      <td>86.04</td>\n",
       "      <td>5</td>\n",
       "      <td>21.5100</td>\n",
       "      <td>451.7100</td>\n",
       "      <td>Ewallet</td>\n",
       "      <td>4.8</td>\n",
       "      <td>2019-02-25 11:24:00</td>\n",
       "      <td>Monday</td>\n",
       "      <td>11</td>\n",
       "      <td>Morning</td>\n",
       "    </tr>\n",
       "    <tr>\n",
       "      <th>34</th>\n",
       "      <td>183-56-6882</td>\n",
       "      <td>C</td>\n",
       "      <td>Naypyitaw</td>\n",
       "      <td>Member</td>\n",
       "      <td>Female</td>\n",
       "      <td>Food and beverages</td>\n",
       "      <td>99.42</td>\n",
       "      <td>4</td>\n",
       "      <td>19.8840</td>\n",
       "      <td>417.5640</td>\n",
       "      <td>Ewallet</td>\n",
       "      <td>7.5</td>\n",
       "      <td>2019-02-06 10:42:00</td>\n",
       "      <td>Wednesday</td>\n",
       "      <td>10</td>\n",
       "      <td>Morning</td>\n",
       "    </tr>\n",
       "    <tr>\n",
       "      <th>...</th>\n",
       "      <td>...</td>\n",
       "      <td>...</td>\n",
       "      <td>...</td>\n",
       "      <td>...</td>\n",
       "      <td>...</td>\n",
       "      <td>...</td>\n",
       "      <td>...</td>\n",
       "      <td>...</td>\n",
       "      <td>...</td>\n",
       "      <td>...</td>\n",
       "      <td>...</td>\n",
       "      <td>...</td>\n",
       "      <td>...</td>\n",
       "      <td>...</td>\n",
       "      <td>...</td>\n",
       "      <td>...</td>\n",
       "    </tr>\n",
       "    <tr>\n",
       "      <th>983</th>\n",
       "      <td>148-41-7930</td>\n",
       "      <td>C</td>\n",
       "      <td>Naypyitaw</td>\n",
       "      <td>Normal</td>\n",
       "      <td>Male</td>\n",
       "      <td>Health and beauty</td>\n",
       "      <td>99.96</td>\n",
       "      <td>7</td>\n",
       "      <td>34.9860</td>\n",
       "      <td>734.7060</td>\n",
       "      <td>Cash</td>\n",
       "      <td>6.1</td>\n",
       "      <td>2019-01-23 10:33:00</td>\n",
       "      <td>Wednesday</td>\n",
       "      <td>10</td>\n",
       "      <td>Morning</td>\n",
       "    </tr>\n",
       "    <tr>\n",
       "      <th>984</th>\n",
       "      <td>189-40-5216</td>\n",
       "      <td>C</td>\n",
       "      <td>Naypyitaw</td>\n",
       "      <td>Normal</td>\n",
       "      <td>Male</td>\n",
       "      <td>Electronic accessories</td>\n",
       "      <td>96.37</td>\n",
       "      <td>7</td>\n",
       "      <td>33.7295</td>\n",
       "      <td>708.3195</td>\n",
       "      <td>Cash</td>\n",
       "      <td>6.0</td>\n",
       "      <td>2019-01-09 11:40:00</td>\n",
       "      <td>Wednesday</td>\n",
       "      <td>11</td>\n",
       "      <td>Morning</td>\n",
       "    </tr>\n",
       "    <tr>\n",
       "      <th>988</th>\n",
       "      <td>267-62-7380</td>\n",
       "      <td>C</td>\n",
       "      <td>Naypyitaw</td>\n",
       "      <td>Member</td>\n",
       "      <td>Male</td>\n",
       "      <td>Electronic accessories</td>\n",
       "      <td>82.34</td>\n",
       "      <td>10</td>\n",
       "      <td>41.1700</td>\n",
       "      <td>864.5700</td>\n",
       "      <td>Ewallet</td>\n",
       "      <td>4.3</td>\n",
       "      <td>2019-03-29 19:12:00</td>\n",
       "      <td>Friday</td>\n",
       "      <td>19</td>\n",
       "      <td>Evenning</td>\n",
       "    </tr>\n",
       "    <tr>\n",
       "      <th>994</th>\n",
       "      <td>652-49-6720</td>\n",
       "      <td>C</td>\n",
       "      <td>Naypyitaw</td>\n",
       "      <td>Member</td>\n",
       "      <td>Female</td>\n",
       "      <td>Electronic accessories</td>\n",
       "      <td>60.95</td>\n",
       "      <td>1</td>\n",
       "      <td>3.0475</td>\n",
       "      <td>63.9975</td>\n",
       "      <td>Ewallet</td>\n",
       "      <td>5.9</td>\n",
       "      <td>2019-02-18 11:40:00</td>\n",
       "      <td>Monday</td>\n",
       "      <td>11</td>\n",
       "      <td>Morning</td>\n",
       "    </tr>\n",
       "    <tr>\n",
       "      <th>995</th>\n",
       "      <td>233-67-5758</td>\n",
       "      <td>C</td>\n",
       "      <td>Naypyitaw</td>\n",
       "      <td>Normal</td>\n",
       "      <td>Male</td>\n",
       "      <td>Health and beauty</td>\n",
       "      <td>40.35</td>\n",
       "      <td>1</td>\n",
       "      <td>2.0175</td>\n",
       "      <td>42.3675</td>\n",
       "      <td>Ewallet</td>\n",
       "      <td>6.2</td>\n",
       "      <td>2019-01-29 13:46:00</td>\n",
       "      <td>Tuesday</td>\n",
       "      <td>13</td>\n",
       "      <td>Afternoon</td>\n",
       "    </tr>\n",
       "  </tbody>\n",
       "</table>\n",
       "<p>328 rows × 16 columns</p>\n",
       "</div>"
      ],
      "text/plain": [
       "      Invoice ID Branch       City Customer type  Gender  \\\n",
       "1    226-31-3081      C  Naypyitaw        Normal  Female   \n",
       "5    699-14-3026      C  Naypyitaw        Normal    Male   \n",
       "7    315-22-5665      C  Naypyitaw        Normal  Female   \n",
       "20   300-71-4605      C  Naypyitaw        Member    Male   \n",
       "34   183-56-6882      C  Naypyitaw        Member  Female   \n",
       "..           ...    ...        ...           ...     ...   \n",
       "983  148-41-7930      C  Naypyitaw        Normal    Male   \n",
       "984  189-40-5216      C  Naypyitaw        Normal    Male   \n",
       "988  267-62-7380      C  Naypyitaw        Member    Male   \n",
       "994  652-49-6720      C  Naypyitaw        Member  Female   \n",
       "995  233-67-5758      C  Naypyitaw        Normal    Male   \n",
       "\n",
       "               Product line  Unit price  Quantity   Tax 5%     Total  Payment  \\\n",
       "1    Electronic accessories       15.28         5   3.8200   80.2200     Cash   \n",
       "5    Electronic accessories       85.39         7  29.8865  627.6165  Ewallet   \n",
       "7        Home and lifestyle       73.56        10  36.7800  772.3800  Ewallet   \n",
       "20   Electronic accessories       86.04         5  21.5100  451.7100  Ewallet   \n",
       "34       Food and beverages       99.42         4  19.8840  417.5640  Ewallet   \n",
       "..                      ...         ...       ...      ...       ...      ...   \n",
       "983       Health and beauty       99.96         7  34.9860  734.7060     Cash   \n",
       "984  Electronic accessories       96.37         7  33.7295  708.3195     Cash   \n",
       "988  Electronic accessories       82.34        10  41.1700  864.5700  Ewallet   \n",
       "994  Electronic accessories       60.95         1   3.0475   63.9975  Ewallet   \n",
       "995       Health and beauty       40.35         1   2.0175   42.3675  Ewallet   \n",
       "\n",
       "     Rating            DateTime   day_name  Hour day_period  \n",
       "1       9.6 2019-03-08 10:29:00     Friday    10    Morning  \n",
       "5       4.1 2019-03-25 18:30:00     Monday    18   Evenning  \n",
       "7       8.0 2019-02-24 11:38:00     Sunday    11    Morning  \n",
       "20      4.8 2019-02-25 11:24:00     Monday    11    Morning  \n",
       "34      7.5 2019-02-06 10:42:00  Wednesday    10    Morning  \n",
       "..      ...                 ...        ...   ...        ...  \n",
       "983     6.1 2019-01-23 10:33:00  Wednesday    10    Morning  \n",
       "984     6.0 2019-01-09 11:40:00  Wednesday    11    Morning  \n",
       "988     4.3 2019-03-29 19:12:00     Friday    19   Evenning  \n",
       "994     5.9 2019-02-18 11:40:00     Monday    11    Morning  \n",
       "995     6.2 2019-01-29 13:46:00    Tuesday    13  Afternoon  \n",
       "\n",
       "[328 rows x 16 columns]"
      ]
     },
     "execution_count": 85,
     "metadata": {},
     "output_type": "execute_result"
    }
   ],
   "source": [
    "df_C=df[df['Branch']=='C']\n",
    "df_C"
   ]
  },
  {
   "cell_type": "code",
   "execution_count": 86,
   "id": "4712d21d",
   "metadata": {},
   "outputs": [
    {
     "data": {
      "text/plain": [
       "32.800000000000004"
      ]
     },
     "execution_count": 86,
     "metadata": {},
     "output_type": "execute_result"
    }
   ],
   "source": [
    "perc=len(df_C.index)/len(df.index)*100\n",
    "perc"
   ]
  },
  {
   "cell_type": "markdown",
   "id": "fadd0b3d",
   "metadata": {},
   "source": [
    "- This means that branch C that locates in Naypyitaw city contains 32.8% from the total Customers."
   ]
  },
  {
   "cell_type": "code",
   "execution_count": 87,
   "id": "367ac5c8",
   "metadata": {
    "scrolled": false
   },
   "outputs": [
    {
     "data": {
      "text/plain": [
       "Customer type\n",
       "Member    169\n",
       "Normal    159\n",
       "Name: Invoice ID, dtype: int64"
      ]
     },
     "execution_count": 87,
     "metadata": {},
     "output_type": "execute_result"
    }
   ],
   "source": [
    "df_C.groupby('Customer type').count()['Invoice ID']"
   ]
  },
  {
   "cell_type": "code",
   "execution_count": 88,
   "id": "e37117ed",
   "metadata": {
    "scrolled": true
   },
   "outputs": [
    {
     "data": {
      "text/plain": [
       "<AxesSubplot:xlabel='Customer type', ylabel='count'>"
      ]
     },
     "execution_count": 88,
     "metadata": {},
     "output_type": "execute_result"
    },
    {
     "data": {
      "image/png": "[encoded data removed]",
      "text/plain": [
       "<Figure size 432x288 with 1 Axes>"
      ]
     },
     "metadata": {
      "needs_background": "light"
     },
     "output_type": "display_data"
    }
   ],
   "source": [
    "sns.countplot(data=df_C,x='Customer type')"
   ]
  },
  {
   "cell_type": "code",
   "execution_count": 89,
   "id": "3ba59669",
   "metadata": {
    "scrolled": false
   },
   "outputs": [
    {
     "data": {
      "text/plain": [
       "51.52439024390244"
      ]
     },
     "execution_count": 89,
     "metadata": {},
     "output_type": "execute_result"
    }
   ],
   "source": [
    "df_C.groupby('Customer type').count()['Invoice ID']['Member']/len(df_C.index)*100"
   ]
  },
  {
   "cell_type": "code",
   "execution_count": 90,
   "id": "963b887c",
   "metadata": {
    "scrolled": true
   },
   "outputs": [
    {
     "data": {
      "text/plain": [
       "48.47560975609756"
      ]
     },
     "execution_count": 90,
     "metadata": {},
     "output_type": "execute_result"
    }
   ],
   "source": [
    "df_C.groupby('Customer type').count()['Invoice ID']['Normal']/len(df_C.index)*100"
   ]
  },
  {
   "cell_type": "markdown",
   "id": "f8f753fa",
   "metadata": {},
   "source": [
    "- This means that Member customers represents 51.5% from the total customers that come to this branch and normal customer represents 48.5%.And this indicates that this branch doesn't depend only on member customers or normal customers both of them are important to this branch."
   ]
  },
  {
   "cell_type": "code",
   "execution_count": 91,
   "id": "fa1caeb1",
   "metadata": {
    "scrolled": true
   },
   "outputs": [
    {
     "data": {
      "text/plain": [
       "Customer type\n",
       "Member    56881.2825\n",
       "Normal    53687.4240\n",
       "Name: Total, dtype: float64"
      ]
     },
     "execution_count": 91,
     "metadata": {},
     "output_type": "execute_result"
    }
   ],
   "source": [
    "df_C.groupby('Customer type').sum()['Total']"
   ]
  },
  {
   "cell_type": "code",
   "execution_count": 92,
   "id": "0b070e53",
   "metadata": {},
   "outputs": [
    {
     "data": {
      "text/plain": [
       "<AxesSubplot:xlabel='Customer type', ylabel='Total'>"
      ]
     },
     "execution_count": 92,
     "metadata": {},
     "output_type": "execute_result"
    },
    {
     "data": {
      "image/png": "[encoded data removed]",
      "text/plain": [
       "<Figure size 432x288 with 1 Axes>"
      ]
     },
     "metadata": {
      "needs_background": "light"
     },
     "output_type": "display_data"
    }
   ],
   "source": [
    "sns.barplot(data=df_C,x='Customer type',y='Total',estimator=np.sum)"
   ]
  },
  {
   "cell_type": "code",
   "execution_count": 93,
   "id": "df09f295",
   "metadata": {
    "scrolled": false
   },
   "outputs": [
    {
     "data": {
      "text/plain": [
       "51.44428681545623"
      ]
     },
     "execution_count": 93,
     "metadata": {},
     "output_type": "execute_result"
    }
   ],
   "source": [
    "df_C.groupby('Customer type').sum()['Total']['Member']/df_C['Total'].sum()*100"
   ]
  },
  {
   "cell_type": "code",
   "execution_count": 94,
   "id": "2fc2e138",
   "metadata": {
    "scrolled": true
   },
   "outputs": [
    {
     "data": {
      "text/plain": [
       "48.55571318454376"
      ]
     },
     "execution_count": 94,
     "metadata": {},
     "output_type": "execute_result"
    }
   ],
   "source": [
    "df_C.groupby('Customer type').sum()['Total']['Normal']/df_C['Total'].sum()*100"
   ]
  },
  {
   "cell_type": "markdown",
   "id": "1f11c031",
   "metadata": {},
   "source": [
    "- This branch earn more from member customers.As 51.44% from total money of this branch from Member customers while 48.55% from total money of this branch from normal customers."
   ]
  },
  {
   "cell_type": "code",
   "execution_count": 95,
   "id": "cc26d6f5",
   "metadata": {
    "scrolled": false
   },
   "outputs": [
    {
     "data": {
      "text/plain": [
       "Gender\n",
       "Female    178\n",
       "Male      150\n",
       "Name: Invoice ID, dtype: int64"
      ]
     },
     "execution_count": 95,
     "metadata": {},
     "output_type": "execute_result"
    }
   ],
   "source": [
    "df_C.groupby('Gender').count()['Invoice ID']"
   ]
  },
  {
   "cell_type": "code",
   "execution_count": 96,
   "id": "03dc0f47",
   "metadata": {
    "scrolled": true
   },
   "outputs": [
    {
     "data": {
      "text/plain": [
       "<AxesSubplot:xlabel='Gender', ylabel='count'>"
      ]
     },
     "execution_count": 96,
     "metadata": {},
     "output_type": "execute_result"
    },
    {
     "data": {
      "image/png": "[encoded data removed]",
      "text/plain": [
       "<Figure size 432x288 with 1 Axes>"
      ]
     },
     "metadata": {
      "needs_background": "light"
     },
     "output_type": "display_data"
    }
   ],
   "source": [
    "sns.countplot(data=df_C,x='Gender')"
   ]
  },
  {
   "cell_type": "code",
   "execution_count": 97,
   "id": "255e7e20",
   "metadata": {},
   "outputs": [
    {
     "data": {
      "text/plain": [
       "45.73170731707317"
      ]
     },
     "execution_count": 97,
     "metadata": {},
     "output_type": "execute_result"
    }
   ],
   "source": [
    "df_C.groupby('Gender').count()['Invoice ID']['Male']/len(df_C.index)*100"
   ]
  },
  {
   "cell_type": "code",
   "execution_count": 98,
   "id": "df6f2846",
   "metadata": {
    "scrolled": true
   },
   "outputs": [
    {
     "data": {
      "text/plain": [
       "54.268292682926834"
      ]
     },
     "execution_count": 98,
     "metadata": {},
     "output_type": "execute_result"
    }
   ],
   "source": [
    "df_C.groupby('Gender').count()['Invoice ID']['Female']/len(df_C.index)*100"
   ]
  },
  {
   "cell_type": "markdown",
   "id": "d74d7d8b",
   "metadata": {},
   "source": [
    "- This means that Female customers represent 54.26% from the total customers that come to this branch and male customers represents 45.73%.This shows that this branch depend on female more than male but not with high percent."
   ]
  },
  {
   "cell_type": "code",
   "execution_count": 99,
   "id": "36c4c190",
   "metadata": {},
   "outputs": [
    {
     "data": {
      "text/plain": [
       "Gender\n",
       "Female    61685.4630\n",
       "Male      48883.2435\n",
       "Name: Total, dtype: float64"
      ]
     },
     "execution_count": 99,
     "metadata": {},
     "output_type": "execute_result"
    }
   ],
   "source": [
    "df_C.groupby('Gender').sum()['Total']"
   ]
  },
  {
   "cell_type": "code",
   "execution_count": 100,
   "id": "fb123c53",
   "metadata": {
    "scrolled": true
   },
   "outputs": [
    {
     "data": {
      "text/plain": [
       "<AxesSubplot:xlabel='Gender', ylabel='Total'>"
      ]
     },
     "execution_count": 100,
     "metadata": {},
     "output_type": "execute_result"
    },
    {
     "data": {
      "image/png": "[encoded data removed]",
      "text/plain": [
       "<Figure size 432x288 with 1 Axes>"
      ]
     },
     "metadata": {
      "needs_background": "light"
     },
     "output_type": "display_data"
    }
   ],
   "source": [
    "sns.barplot(data=df_C,x='Gender',y='Total',estimator=np.sum)"
   ]
  },
  {
   "cell_type": "code",
   "execution_count": 101,
   "id": "e32146f5",
   "metadata": {},
   "outputs": [
    {
     "data": {
      "text/plain": [
       "44.21074013378279"
      ]
     },
     "execution_count": 101,
     "metadata": {},
     "output_type": "execute_result"
    }
   ],
   "source": [
    "df_C.groupby('Gender').sum()['Total']['Male']/df_C['Total'].sum()*100"
   ]
  },
  {
   "cell_type": "code",
   "execution_count": 102,
   "id": "e3720b67",
   "metadata": {},
   "outputs": [
    {
     "data": {
      "text/plain": [
       "55.78925986621721"
      ]
     },
     "execution_count": 102,
     "metadata": {},
     "output_type": "execute_result"
    }
   ],
   "source": [
    "df_C.groupby('Gender').sum()['Total']['Female']/df_C['Total'].sum()*100"
   ]
  },
  {
   "cell_type": "markdown",
   "id": "d1a19231",
   "metadata": {},
   "source": [
    "- This branch earn more from female customers.As 55.8% from total money of this branch from female customers while 44.2% from total money of this branch from male customers."
   ]
  },
  {
   "cell_type": "code",
   "execution_count": 103,
   "id": "e4e63dd8",
   "metadata": {},
   "outputs": [
    {
     "name": "stdout",
     "output_type": "stream",
     "text": [
      "the number of quantities sold for Electronic accessories product is 333\n",
      "the number of quantities sold for Fashion accessories product is 342\n",
      "the number of quantities sold for Food and beverages product is 369\n",
      "the number of quantities sold for Health and beauty product is 277\n",
      "the number of quantities sold for Home and lifestyle product is 245\n",
      "the number of quantities sold for Sports and travel product is 265\n"
     ]
    }
   ],
   "source": [
    "products_line=['Electronic accessories','Fashion accessories','Food and beverages','Health and beauty','Home and lifestyle','Sports and travel']\n",
    "for product in products_line:\n",
    "    sum_of_quantity=df_C[df_C['Product line']==product]['Quantity'].sum()\n",
    "    print(f\"the number of quantities sold for {product} product is {sum_of_quantity}\")\n",
    "\n"
   ]
  },
  {
   "cell_type": "markdown",
   "id": "9582c5cb",
   "metadata": {},
   "source": [
    "- This shows that the Food and beverages product is the most product that have been sold."
   ]
  },
  {
   "cell_type": "code",
   "execution_count": 104,
   "id": "8a89da04",
   "metadata": {
    "scrolled": false
   },
   "outputs": [
    {
     "data": {
      "text/plain": [
       "Product line\n",
       "Electronic accessories    18968.9745\n",
       "Fashion accessories       21560.0700\n",
       "Food and beverages        23766.8550\n",
       "Health and beauty         16615.3260\n",
       "Home and lifestyle        13895.5530\n",
       "Sports and travel         15761.9280\n",
       "Name: Total, dtype: float64"
      ]
     },
     "execution_count": 104,
     "metadata": {},
     "output_type": "execute_result"
    }
   ],
   "source": [
    "df_C.groupby('Product line').sum()['Total']"
   ]
  },
  {
   "cell_type": "code",
   "execution_count": 105,
   "id": "d6874ed4",
   "metadata": {
    "scrolled": true
   },
   "outputs": [
    {
     "data": {
      "text/plain": [
       "<AxesSubplot:xlabel='Total', ylabel='Product line'>"
      ]
     },
     "execution_count": 105,
     "metadata": {},
     "output_type": "execute_result"
    },
    {
     "data": {
      "image/png": "[encoded data removed]",
      "text/plain": [
       "<Figure size 432x288 with 1 Axes>"
      ]
     },
     "metadata": {
      "needs_background": "light"
     },
     "output_type": "display_data"
    }
   ],
   "source": [
    "sns.barplot(data=df_C,y='Product line',x='Total',estimator=np.sum)"
   ]
  },
  {
   "cell_type": "code",
   "execution_count": 106,
   "id": "159dd40c",
   "metadata": {},
   "outputs": [
    {
     "name": "stdout",
     "output_type": "stream",
     "text": [
      "Electronic accessories product represents 17.155825640413006% from total money of this branch.\n",
      "Fashion accessories product represents 19.4992513546317% from total money of this branch.\n",
      "Food and beverages product represents 21.49510087648534% from total money of this branch.\n",
      "Health and beauty product represents 15.027150561809277% from total money of this branch.\n",
      "Home and lifestyle product represents 12.567346982575037% from total money of this branch.\n",
      "Sports and travel product represents 14.255324584085644% from total money of this branch.\n"
     ]
    }
   ],
   "source": [
    "for product in products_line:\n",
    "    perc=df_C.groupby('Product line').sum()['Total'][product]/df_C['Total'].sum()*100\n",
    "    print(f\"{product} product represents {perc}% from total money of this branch.\")"
   ]
  },
  {
   "cell_type": "markdown",
   "id": "c38f3b83",
   "metadata": {},
   "source": [
    "- This means that Electronic accessories represent 17.15% from total money of this branch and Fashion accessories reprensents 19.49% from total money of this branch and Food and beverages represents 21.49% from total money of this branch and Health and beauty represents 15.02% from total money of this branch and Home and lifestyle represents 12.56% from total money of this branch and Sports and travel represents 14.25 from total money of this branch.Therefore this branch earn more from Food and beverages product."
   ]
  },
  {
   "cell_type": "code",
   "execution_count": 107,
   "id": "7155546d",
   "metadata": {
    "scrolled": false
   },
   "outputs": [
    {
     "data": {
      "text/plain": [
       "34.23532200833467"
      ]
     },
     "execution_count": 107,
     "metadata": {},
     "output_type": "execute_result"
    }
   ],
   "source": [
    "df_C['Total'].sum()/df['Total'].sum()*100"
   ]
  },
  {
   "cell_type": "markdown",
   "id": "7c1fac98",
   "metadata": {},
   "source": [
    "- This means that this branch represents 34.23% from the total money of the supermarket.This is the highest percentage and means that how important is this branch."
   ]
  },
  {
   "cell_type": "code",
   "execution_count": 108,
   "id": "69d9692a",
   "metadata": {
    "scrolled": false
   },
   "outputs": [
    {
     "data": {
      "text/plain": [
       "Product line\n",
       "Electronic accessories    6.747273\n",
       "Fashion accessories       7.440000\n",
       "Food and beverages        7.080303\n",
       "Health and beauty         6.998077\n",
       "Home and lifestyle        7.060000\n",
       "Sports and travel         7.028889\n",
       "Name: Rating, dtype: float64"
      ]
     },
     "execution_count": 108,
     "metadata": {},
     "output_type": "execute_result"
    }
   ],
   "source": [
    "df_C.groupby('Product line').mean()['Rating']"
   ]
  },
  {
   "cell_type": "code",
   "execution_count": 109,
   "id": "b7539211",
   "metadata": {
    "scrolled": false
   },
   "outputs": [
    {
     "data": {
      "text/plain": [
       "<AxesSubplot:xlabel='Rating', ylabel='Product line'>"
      ]
     },
     "execution_count": 109,
     "metadata": {},
     "output_type": "execute_result"
    },
    {
     "data": {
      "image/png": "[encoded data removed]",
      "text/plain": [
       "<Figure size 432x288 with 1 Axes>"
      ]
     },
     "metadata": {
      "needs_background": "light"
     },
     "output_type": "display_data"
    }
   ],
   "source": [
    "sns.barplot(data=df_C,y='Product line',x='Rating')"
   ]
  },
  {
   "cell_type": "code",
   "execution_count": 110,
   "id": "71275aad",
   "metadata": {
    "scrolled": false
   },
   "outputs": [
    {
     "data": {
      "text/plain": [
       "7.072865853658538"
      ]
     },
     "execution_count": 110,
     "metadata": {},
     "output_type": "execute_result"
    }
   ],
   "source": [
    "df_C['Rating'].mean()"
   ]
  },
  {
   "cell_type": "markdown",
   "id": "aa1367fc",
   "metadata": {},
   "source": [
    "- Average rating of this branch is 7 out of 10 i think it is good rate but need to be improved."
   ]
  },
  {
   "cell_type": "code",
   "execution_count": 111,
   "id": "da72bc69",
   "metadata": {
    "scrolled": true
   },
   "outputs": [
    {
     "data": {
      "text/plain": [
       "Payment\n",
       "Cash           124\n",
       "Credit card     98\n",
       "Ewallet        106\n",
       "Name: Invoice ID, dtype: int64"
      ]
     },
     "execution_count": 111,
     "metadata": {},
     "output_type": "execute_result"
    }
   ],
   "source": [
    "df_C.groupby('Payment').count()['Invoice ID']"
   ]
  },
  {
   "cell_type": "code",
   "execution_count": 112,
   "id": "8091c09b",
   "metadata": {},
   "outputs": [
    {
     "data": {
      "text/plain": [
       "<AxesSubplot:xlabel='Payment', ylabel='count'>"
      ]
     },
     "execution_count": 112,
     "metadata": {},
     "output_type": "execute_result"
    },
    {
     "data": {
      "image/png": "[encoded data removed]",
      "text/plain": [
       "<Figure size 432x288 with 1 Axes>"
      ]
     },
     "metadata": {
      "needs_background": "light"
     },
     "output_type": "display_data"
    }
   ],
   "source": [
    "sns.countplot(data=df_C,x='Payment')"
   ]
  },
  {
   "cell_type": "markdown",
   "id": "933f242e",
   "metadata": {},
   "source": [
    "- This means that the most used payment method in this branch is cash."
   ]
  },
  {
   "cell_type": "code",
   "execution_count": 113,
   "id": "e815b3cf",
   "metadata": {},
   "outputs": [
    {
     "data": {
      "text/plain": [
       "day_name\n",
       "Friday       38\n",
       "Monday       38\n",
       "Saturday     54\n",
       "Sunday       46\n",
       "Thursday     48\n",
       "Tuesday      54\n",
       "Wednesday    50\n",
       "Name: Invoice ID, dtype: int64"
      ]
     },
     "execution_count": 113,
     "metadata": {},
     "output_type": "execute_result"
    }
   ],
   "source": [
    "df_C.groupby('day_name').count()['Invoice ID']"
   ]
  },
  {
   "cell_type": "code",
   "execution_count": 114,
   "id": "ad1223b9",
   "metadata": {
    "scrolled": false
   },
   "outputs": [
    {
     "data": {
      "text/plain": [
       "<AxesSubplot:xlabel='count', ylabel='day_name'>"
      ]
     },
     "execution_count": 114,
     "metadata": {},
     "output_type": "execute_result"
    },
    {
     "data": {
      "image/png": "[encoded data removed]",
      "text/plain": [
       "<Figure size 432x288 with 1 Axes>"
      ]
     },
     "metadata": {
      "needs_background": "light"
     },
     "output_type": "display_data"
    }
   ],
   "source": [
    "sns.countplot(data=df_C,y='day_name')"
   ]
  },
  {
   "cell_type": "code",
   "execution_count": 115,
   "id": "970753ce",
   "metadata": {
    "scrolled": true
   },
   "outputs": [
    {
     "data": {
      "text/plain": [
       "day_name\n",
       "Saturday     18070.9725\n",
       "Wednesday    17755.8150\n",
       "Tuesday      17667.7935\n",
       "Sunday       17035.7460\n",
       "Friday       14964.7155\n",
       "Thursday     14148.3510\n",
       "Monday       10925.3130\n",
       "Name: Total, dtype: float64"
      ]
     },
     "execution_count": 115,
     "metadata": {},
     "output_type": "execute_result"
    }
   ],
   "source": [
    "df_C.groupby('day_name').sum()['Total'].sort_values(ascending=False)"
   ]
  },
  {
   "cell_type": "code",
   "execution_count": 116,
   "id": "3db02abb",
   "metadata": {
    "scrolled": false
   },
   "outputs": [
    {
     "data": {
      "text/plain": [
       "<AxesSubplot:xlabel='Total', ylabel='day_name'>"
      ]
     },
     "execution_count": 116,
     "metadata": {},
     "output_type": "execute_result"
    },
    {
     "data": {
      "image/png": "[encoded data removed]",
      "text/plain": [
       "<Figure size 432x288 with 1 Axes>"
      ]
     },
     "metadata": {
      "needs_background": "light"
     },
     "output_type": "display_data"
    }
   ],
   "source": [
    "sns.barplot(data=df_C,y='day_name',x='Total',estimator=np.sum)"
   ]
  },
  {
   "cell_type": "markdown",
   "id": "81424186",
   "metadata": {},
   "source": [
    "- This means that the most day that customer visit to this branch is saturday and tuesdat and also saturday is the day that this branch earn more money on it."
   ]
  },
  {
   "cell_type": "code",
   "execution_count": 117,
   "id": "a3138e51",
   "metadata": {
    "scrolled": false
   },
   "outputs": [
    {
     "data": {
      "text/plain": [
       "day_period\n",
       "Afternoon    181\n",
       "Evenning      88\n",
       "Morning       59\n",
       "Name: Invoice ID, dtype: int64"
      ]
     },
     "execution_count": 117,
     "metadata": {},
     "output_type": "execute_result"
    }
   ],
   "source": [
    "df_C.groupby('day_period').count()['Invoice ID']"
   ]
  },
  {
   "cell_type": "code",
   "execution_count": 118,
   "id": "446e0105",
   "metadata": {
    "scrolled": false
   },
   "outputs": [
    {
     "data": {
      "text/plain": [
       "<AxesSubplot:xlabel='count', ylabel='day_period'>"
      ]
     },
     "execution_count": 118,
     "metadata": {},
     "output_type": "execute_result"
    },
    {
     "data": {
      "image/png": "[encoded data removed]",
      "text/plain": [
       "<Figure size 432x288 with 1 Axes>"
      ]
     },
     "metadata": {
      "needs_background": "light"
     },
     "output_type": "display_data"
    }
   ],
   "source": [
    "sns.countplot(data=df_C,y='day_period')"
   ]
  },
  {
   "cell_type": "code",
   "execution_count": 119,
   "id": "8cb4fdea",
   "metadata": {
    "scrolled": false
   },
   "outputs": [
    {
     "data": {
      "text/plain": [
       "day_period\n",
       "Afternoon    58851.9855\n",
       "Evenning     31823.8725\n",
       "Morning      19892.8485\n",
       "Name: Total, dtype: float64"
      ]
     },
     "execution_count": 119,
     "metadata": {},
     "output_type": "execute_result"
    }
   ],
   "source": [
    "df_C.groupby('day_period').sum()['Total'].sort_values(ascending=False)"
   ]
  },
  {
   "cell_type": "code",
   "execution_count": 120,
   "id": "964dfc9e",
   "metadata": {
    "scrolled": false
   },
   "outputs": [
    {
     "data": {
      "text/plain": [
       "<AxesSubplot:xlabel='Total', ylabel='day_period'>"
      ]
     },
     "execution_count": 120,
     "metadata": {},
     "output_type": "execute_result"
    },
    {
     "data": {
      "image/png": "[encoded data removed]",
      "text/plain": [
       "<Figure size 432x288 with 1 Axes>"
      ]
     },
     "metadata": {
      "needs_background": "light"
     },
     "output_type": "display_data"
    }
   ],
   "source": [
    "sns.barplot(data=df_C,y='day_period',x='Total',estimator=np.sum)"
   ]
  },
  {
   "cell_type": "code",
   "execution_count": 121,
   "id": "4cd619b9",
   "metadata": {
    "scrolled": false
   },
   "outputs": [
    {
     "data": {
      "text/plain": [
       "53.22662022821078"
      ]
     },
     "execution_count": 121,
     "metadata": {},
     "output_type": "execute_result"
    }
   ],
   "source": [
    "df_C.groupby('day_period').sum()['Total']['Afternoon']/df_C['Total'].sum()*100"
   ]
  },
  {
   "cell_type": "markdown",
   "id": "a8da836b",
   "metadata": {},
   "source": [
    "- This shows that most of the customer visits this branch at afternoon and also this period earning about 53.22% from the total money that this branch earned.This shows how important is this period."
   ]
  },
  {
   "cell_type": "markdown",
   "id": "f5a9d9ad",
   "metadata": {},
   "source": [
    "# Analaysis on three branches together :"
   ]
  },
  {
   "cell_type": "code",
   "execution_count": 122,
   "id": "d3c88b6d",
   "metadata": {
    "scrolled": true
   },
   "outputs": [
    {
     "data": {
      "text/html": [
       "<div>\n",
       "<style scoped>\n",
       "    .dataframe tbody tr th:only-of-type {\n",
       "        vertical-align: middle;\n",
       "    }\n",
       "\n",
       "    .dataframe tbody tr th {\n",
       "        vertical-align: top;\n",
       "    }\n",
       "\n",
       "    .dataframe thead th {\n",
       "        text-align: right;\n",
       "    }\n",
       "</style>\n",
       "<table border=\"1\" class=\"dataframe\">\n",
       "  <thead>\n",
       "    <tr style=\"text-align: right;\">\n",
       "      <th></th>\n",
       "      <th>Invoice ID</th>\n",
       "      <th>Branch</th>\n",
       "      <th>City</th>\n",
       "      <th>Customer type</th>\n",
       "      <th>Gender</th>\n",
       "      <th>Product line</th>\n",
       "      <th>Unit price</th>\n",
       "      <th>Quantity</th>\n",
       "      <th>Tax 5%</th>\n",
       "      <th>Total</th>\n",
       "      <th>Payment</th>\n",
       "      <th>Rating</th>\n",
       "      <th>DateTime</th>\n",
       "      <th>day_name</th>\n",
       "      <th>Hour</th>\n",
       "      <th>day_period</th>\n",
       "    </tr>\n",
       "  </thead>\n",
       "  <tbody>\n",
       "    <tr>\n",
       "      <th>0</th>\n",
       "      <td>750-67-8428</td>\n",
       "      <td>A</td>\n",
       "      <td>Yangon</td>\n",
       "      <td>Member</td>\n",
       "      <td>Female</td>\n",
       "      <td>Health and beauty</td>\n",
       "      <td>74.69</td>\n",
       "      <td>7</td>\n",
       "      <td>26.1415</td>\n",
       "      <td>548.9715</td>\n",
       "      <td>Ewallet</td>\n",
       "      <td>9.1</td>\n",
       "      <td>2019-01-05 13:08:00</td>\n",
       "      <td>Saturday</td>\n",
       "      <td>13</td>\n",
       "      <td>Afternoon</td>\n",
       "    </tr>\n",
       "    <tr>\n",
       "      <th>1</th>\n",
       "      <td>226-31-3081</td>\n",
       "      <td>C</td>\n",
       "      <td>Naypyitaw</td>\n",
       "      <td>Normal</td>\n",
       "      <td>Female</td>\n",
       "      <td>Electronic accessories</td>\n",
       "      <td>15.28</td>\n",
       "      <td>5</td>\n",
       "      <td>3.8200</td>\n",
       "      <td>80.2200</td>\n",
       "      <td>Cash</td>\n",
       "      <td>9.6</td>\n",
       "      <td>2019-03-08 10:29:00</td>\n",
       "      <td>Friday</td>\n",
       "      <td>10</td>\n",
       "      <td>Morning</td>\n",
       "    </tr>\n",
       "    <tr>\n",
       "      <th>2</th>\n",
       "      <td>631-41-3108</td>\n",
       "      <td>A</td>\n",
       "      <td>Yangon</td>\n",
       "      <td>Normal</td>\n",
       "      <td>Male</td>\n",
       "      <td>Home and lifestyle</td>\n",
       "      <td>46.33</td>\n",
       "      <td>7</td>\n",
       "      <td>16.2155</td>\n",
       "      <td>340.5255</td>\n",
       "      <td>Credit card</td>\n",
       "      <td>7.4</td>\n",
       "      <td>2019-03-03 13:23:00</td>\n",
       "      <td>Sunday</td>\n",
       "      <td>13</td>\n",
       "      <td>Afternoon</td>\n",
       "    </tr>\n",
       "    <tr>\n",
       "      <th>3</th>\n",
       "      <td>123-19-1176</td>\n",
       "      <td>A</td>\n",
       "      <td>Yangon</td>\n",
       "      <td>Member</td>\n",
       "      <td>Male</td>\n",
       "      <td>Health and beauty</td>\n",
       "      <td>58.22</td>\n",
       "      <td>8</td>\n",
       "      <td>23.2880</td>\n",
       "      <td>489.0480</td>\n",
       "      <td>Ewallet</td>\n",
       "      <td>8.4</td>\n",
       "      <td>2019-01-27 20:33:00</td>\n",
       "      <td>Sunday</td>\n",
       "      <td>20</td>\n",
       "      <td>Evenning</td>\n",
       "    </tr>\n",
       "    <tr>\n",
       "      <th>4</th>\n",
       "      <td>373-73-7910</td>\n",
       "      <td>A</td>\n",
       "      <td>Yangon</td>\n",
       "      <td>Normal</td>\n",
       "      <td>Male</td>\n",
       "      <td>Sports and travel</td>\n",
       "      <td>86.31</td>\n",
       "      <td>7</td>\n",
       "      <td>30.2085</td>\n",
       "      <td>634.3785</td>\n",
       "      <td>Ewallet</td>\n",
       "      <td>5.3</td>\n",
       "      <td>2019-02-08 10:37:00</td>\n",
       "      <td>Friday</td>\n",
       "      <td>10</td>\n",
       "      <td>Morning</td>\n",
       "    </tr>\n",
       "    <tr>\n",
       "      <th>...</th>\n",
       "      <td>...</td>\n",
       "      <td>...</td>\n",
       "      <td>...</td>\n",
       "      <td>...</td>\n",
       "      <td>...</td>\n",
       "      <td>...</td>\n",
       "      <td>...</td>\n",
       "      <td>...</td>\n",
       "      <td>...</td>\n",
       "      <td>...</td>\n",
       "      <td>...</td>\n",
       "      <td>...</td>\n",
       "      <td>...</td>\n",
       "      <td>...</td>\n",
       "      <td>...</td>\n",
       "      <td>...</td>\n",
       "    </tr>\n",
       "    <tr>\n",
       "      <th>995</th>\n",
       "      <td>233-67-5758</td>\n",
       "      <td>C</td>\n",
       "      <td>Naypyitaw</td>\n",
       "      <td>Normal</td>\n",
       "      <td>Male</td>\n",
       "      <td>Health and beauty</td>\n",
       "      <td>40.35</td>\n",
       "      <td>1</td>\n",
       "      <td>2.0175</td>\n",
       "      <td>42.3675</td>\n",
       "      <td>Ewallet</td>\n",
       "      <td>6.2</td>\n",
       "      <td>2019-01-29 13:46:00</td>\n",
       "      <td>Tuesday</td>\n",
       "      <td>13</td>\n",
       "      <td>Afternoon</td>\n",
       "    </tr>\n",
       "    <tr>\n",
       "      <th>996</th>\n",
       "      <td>303-96-2227</td>\n",
       "      <td>B</td>\n",
       "      <td>Mandalay</td>\n",
       "      <td>Normal</td>\n",
       "      <td>Female</td>\n",
       "      <td>Home and lifestyle</td>\n",
       "      <td>97.38</td>\n",
       "      <td>10</td>\n",
       "      <td>48.6900</td>\n",
       "      <td>1022.4900</td>\n",
       "      <td>Ewallet</td>\n",
       "      <td>4.4</td>\n",
       "      <td>2019-03-02 17:16:00</td>\n",
       "      <td>Saturday</td>\n",
       "      <td>17</td>\n",
       "      <td>Afternoon</td>\n",
       "    </tr>\n",
       "    <tr>\n",
       "      <th>997</th>\n",
       "      <td>727-02-1313</td>\n",
       "      <td>A</td>\n",
       "      <td>Yangon</td>\n",
       "      <td>Member</td>\n",
       "      <td>Male</td>\n",
       "      <td>Food and beverages</td>\n",
       "      <td>31.84</td>\n",
       "      <td>1</td>\n",
       "      <td>1.5920</td>\n",
       "      <td>33.4320</td>\n",
       "      <td>Cash</td>\n",
       "      <td>7.7</td>\n",
       "      <td>2019-02-09 13:22:00</td>\n",
       "      <td>Saturday</td>\n",
       "      <td>13</td>\n",
       "      <td>Afternoon</td>\n",
       "    </tr>\n",
       "    <tr>\n",
       "      <th>998</th>\n",
       "      <td>347-56-2442</td>\n",
       "      <td>A</td>\n",
       "      <td>Yangon</td>\n",
       "      <td>Normal</td>\n",
       "      <td>Male</td>\n",
       "      <td>Home and lifestyle</td>\n",
       "      <td>65.82</td>\n",
       "      <td>1</td>\n",
       "      <td>3.2910</td>\n",
       "      <td>69.1110</td>\n",
       "      <td>Cash</td>\n",
       "      <td>4.1</td>\n",
       "      <td>2019-02-22 15:33:00</td>\n",
       "      <td>Friday</td>\n",
       "      <td>15</td>\n",
       "      <td>Afternoon</td>\n",
       "    </tr>\n",
       "    <tr>\n",
       "      <th>999</th>\n",
       "      <td>849-09-3807</td>\n",
       "      <td>A</td>\n",
       "      <td>Yangon</td>\n",
       "      <td>Member</td>\n",
       "      <td>Female</td>\n",
       "      <td>Fashion accessories</td>\n",
       "      <td>88.34</td>\n",
       "      <td>7</td>\n",
       "      <td>30.9190</td>\n",
       "      <td>649.2990</td>\n",
       "      <td>Cash</td>\n",
       "      <td>6.6</td>\n",
       "      <td>2019-02-18 13:28:00</td>\n",
       "      <td>Monday</td>\n",
       "      <td>13</td>\n",
       "      <td>Afternoon</td>\n",
       "    </tr>\n",
       "  </tbody>\n",
       "</table>\n",
       "<p>1000 rows × 16 columns</p>\n",
       "</div>"
      ],
      "text/plain": [
       "      Invoice ID Branch       City Customer type  Gender  \\\n",
       "0    750-67-8428      A     Yangon        Member  Female   \n",
       "1    226-31-3081      C  Naypyitaw        Normal  Female   \n",
       "2    631-41-3108      A     Yangon        Normal    Male   \n",
       "3    123-19-1176      A     Yangon        Member    Male   \n",
       "4    373-73-7910      A     Yangon        Normal    Male   \n",
       "..           ...    ...        ...           ...     ...   \n",
       "995  233-67-5758      C  Naypyitaw        Normal    Male   \n",
       "996  303-96-2227      B   Mandalay        Normal  Female   \n",
       "997  727-02-1313      A     Yangon        Member    Male   \n",
       "998  347-56-2442      A     Yangon        Normal    Male   \n",
       "999  849-09-3807      A     Yangon        Member  Female   \n",
       "\n",
       "               Product line  Unit price  Quantity   Tax 5%      Total  \\\n",
       "0         Health and beauty       74.69         7  26.1415   548.9715   \n",
       "1    Electronic accessories       15.28         5   3.8200    80.2200   \n",
       "2        Home and lifestyle       46.33         7  16.2155   340.5255   \n",
       "3         Health and beauty       58.22         8  23.2880   489.0480   \n",
       "4         Sports and travel       86.31         7  30.2085   634.3785   \n",
       "..                      ...         ...       ...      ...        ...   \n",
       "995       Health and beauty       40.35         1   2.0175    42.3675   \n",
       "996      Home and lifestyle       97.38        10  48.6900  1022.4900   \n",
       "997      Food and beverages       31.84         1   1.5920    33.4320   \n",
       "998      Home and lifestyle       65.82         1   3.2910    69.1110   \n",
       "999     Fashion accessories       88.34         7  30.9190   649.2990   \n",
       "\n",
       "         Payment  Rating            DateTime  day_name  Hour day_period  \n",
       "0        Ewallet     9.1 2019-01-05 13:08:00  Saturday    13  Afternoon  \n",
       "1           Cash     9.6 2019-03-08 10:29:00    Friday    10    Morning  \n",
       "2    Credit card     7.4 2019-03-03 13:23:00    Sunday    13  Afternoon  \n",
       "3        Ewallet     8.4 2019-01-27 20:33:00    Sunday    20   Evenning  \n",
       "4        Ewallet     5.3 2019-02-08 10:37:00    Friday    10    Morning  \n",
       "..           ...     ...                 ...       ...   ...        ...  \n",
       "995      Ewallet     6.2 2019-01-29 13:46:00   Tuesday    13  Afternoon  \n",
       "996      Ewallet     4.4 2019-03-02 17:16:00  Saturday    17  Afternoon  \n",
       "997         Cash     7.7 2019-02-09 13:22:00  Saturday    13  Afternoon  \n",
       "998         Cash     4.1 2019-02-22 15:33:00    Friday    15  Afternoon  \n",
       "999         Cash     6.6 2019-02-18 13:28:00    Monday    13  Afternoon  \n",
       "\n",
       "[1000 rows x 16 columns]"
      ]
     },
     "execution_count": 122,
     "metadata": {},
     "output_type": "execute_result"
    }
   ],
   "source": [
    "df"
   ]
  },
  {
   "cell_type": "code",
   "execution_count": 123,
   "id": "824fe5ca",
   "metadata": {},
   "outputs": [
    {
     "data": {
      "text/plain": [
       "Branch\n",
       "A    340\n",
       "B    332\n",
       "C    328\n",
       "Name: Invoice ID, dtype: int64"
      ]
     },
     "execution_count": 123,
     "metadata": {},
     "output_type": "execute_result"
    }
   ],
   "source": [
    "df.groupby(\"Branch\").count()['Invoice ID']"
   ]
  },
  {
   "cell_type": "code",
   "execution_count": 124,
   "id": "cf9f9c75",
   "metadata": {},
   "outputs": [
    {
     "data": {
      "text/plain": [
       "<AxesSubplot:xlabel='Branch', ylabel='count'>"
      ]
     },
     "execution_count": 124,
     "metadata": {},
     "output_type": "execute_result"
    },
    {
     "data": {
      "image/png": "[encoded data removed]",
      "text/plain": [
       "<Figure size 432x288 with 1 Axes>"
      ]
     },
     "metadata": {
      "needs_background": "light"
     },
     "output_type": "display_data"
    }
   ],
   "source": [
    "sns.countplot(data=df,x='Branch')"
   ]
  },
  {
   "cell_type": "markdown",
   "id": "d2b23263",
   "metadata": {},
   "source": [
    "- This means that branch A has more customers."
   ]
  },
  {
   "cell_type": "code",
   "execution_count": 125,
   "id": "9d53c4f5",
   "metadata": {},
   "outputs": [
    {
     "data": {
      "text/plain": [
       "Branch\n",
       "A    106200.3705\n",
       "B    106197.6720\n",
       "C    110568.7065\n",
       "Name: Total, dtype: float64"
      ]
     },
     "execution_count": 125,
     "metadata": {},
     "output_type": "execute_result"
    }
   ],
   "source": [
    "df.groupby('Branch').sum()['Total']"
   ]
  },
  {
   "cell_type": "code",
   "execution_count": 126,
   "id": "09127d0f",
   "metadata": {},
   "outputs": [
    {
     "data": {
      "text/plain": [
       "<AxesSubplot:xlabel='Branch', ylabel='Total'>"
      ]
     },
     "execution_count": 126,
     "metadata": {},
     "output_type": "execute_result"
    },
    {
     "data": {
      "image/png": "[encoded data removed]",
      "text/plain": [
       "<Figure size 432x288 with 1 Axes>"
      ]
     },
     "metadata": {
      "needs_background": "light"
     },
     "output_type": "display_data"
    }
   ],
   "source": [
    "sns.barplot(data=df,x='Branch',y='Total',estimator=np.sum)"
   ]
  },
  {
   "cell_type": "markdown",
   "id": "6737fa2e",
   "metadata": {},
   "source": [
    "- while c is the less branch that customers visit but it is the more branch that gain money."
   ]
  },
  {
   "cell_type": "code",
   "execution_count": 127,
   "id": "01fa3ed9",
   "metadata": {},
   "outputs": [
    {
     "data": {
      "text/plain": [
       "Customer type\n",
       "Member    501\n",
       "Normal    499\n",
       "Name: Invoice ID, dtype: int64"
      ]
     },
     "execution_count": 127,
     "metadata": {},
     "output_type": "execute_result"
    }
   ],
   "source": [
    "df.groupby('Customer type').count()['Invoice ID']"
   ]
  },
  {
   "cell_type": "code",
   "execution_count": 128,
   "id": "cd902ca2",
   "metadata": {
    "scrolled": true
   },
   "outputs": [
    {
     "data": {
      "text/plain": [
       "<AxesSubplot:xlabel='Customer type', ylabel='count'>"
      ]
     },
     "execution_count": 128,
     "metadata": {},
     "output_type": "execute_result"
    },
    {
     "data": {
      "image/png": "[encoded data removed]",
      "text/plain": [
       "<Figure size 432x288 with 1 Axes>"
      ]
     },
     "metadata": {
      "needs_background": "light"
     },
     "output_type": "display_data"
    }
   ],
   "source": [
    "sns.countplot(data=df,x='Customer type',hue='Branch')"
   ]
  },
  {
   "cell_type": "code",
   "execution_count": 129,
   "id": "282cfa42",
   "metadata": {},
   "outputs": [
    {
     "data": {
      "text/plain": [
       "Customer type\n",
       "Member    164223.444\n",
       "Normal    158743.305\n",
       "Name: Total, dtype: float64"
      ]
     },
     "execution_count": 129,
     "metadata": {},
     "output_type": "execute_result"
    }
   ],
   "source": [
    "df.groupby('Customer type').sum()['Total']"
   ]
  },
  {
   "cell_type": "code",
   "execution_count": 130,
   "id": "6ee6351d",
   "metadata": {
    "scrolled": true
   },
   "outputs": [
    {
     "data": {
      "text/plain": [
       "<AxesSubplot:xlabel='Customer type', ylabel='Total'>"
      ]
     },
     "execution_count": 130,
     "metadata": {},
     "output_type": "execute_result"
    },
    {
     "data": {
      "image/png": "[encoded data removed]",
      "text/plain": [
       "<Figure size 432x288 with 1 Axes>"
      ]
     },
     "metadata": {
      "needs_background": "light"
     },
     "output_type": "display_data"
    }
   ],
   "source": [
    "sns.barplot(data=df,x='Customer type',y='Total',estimator=np.sum)"
   ]
  },
  {
   "cell_type": "markdown",
   "id": "62c11292",
   "metadata": {},
   "source": [
    "- This means that member customer greater than normal customers but both of them are important to the supermarket and supermarket earn more from Members customers."
   ]
  },
  {
   "cell_type": "code",
   "execution_count": 131,
   "id": "e46f8f2b",
   "metadata": {},
   "outputs": [
    {
     "data": {
      "text/plain": [
       "Gender\n",
       "Female    501\n",
       "Male      499\n",
       "Name: Invoice ID, dtype: int64"
      ]
     },
     "execution_count": 131,
     "metadata": {},
     "output_type": "execute_result"
    }
   ],
   "source": [
    "df.groupby('Gender').count()['Invoice ID']"
   ]
  },
  {
   "cell_type": "code",
   "execution_count": 132,
   "id": "ab6cacf2",
   "metadata": {},
   "outputs": [
    {
     "data": {
      "text/plain": [
       "<AxesSubplot:xlabel='Gender', ylabel='count'>"
      ]
     },
     "execution_count": 132,
     "metadata": {},
     "output_type": "execute_result"
    },
    {
     "data": {
      "image/png": "[encoded data removed]",
      "text/plain": [
       "<Figure size 432x288 with 1 Axes>"
      ]
     },
     "metadata": {
      "needs_background": "light"
     },
     "output_type": "display_data"
    }
   ],
   "source": [
    "sns.countplot(data=df,x='Gender',hue='Branch')"
   ]
  },
  {
   "cell_type": "code",
   "execution_count": 133,
   "id": "239db592",
   "metadata": {},
   "outputs": [
    {
     "data": {
      "text/plain": [
       "Gender\n",
       "Female    167882.925\n",
       "Male      155083.824\n",
       "Name: Total, dtype: float64"
      ]
     },
     "execution_count": 133,
     "metadata": {},
     "output_type": "execute_result"
    }
   ],
   "source": [
    "df.groupby('Gender').sum()['Total']"
   ]
  },
  {
   "cell_type": "code",
   "execution_count": 134,
   "id": "130593bb",
   "metadata": {},
   "outputs": [
    {
     "data": {
      "text/plain": [
       "<AxesSubplot:xlabel='Gender', ylabel='Total'>"
      ]
     },
     "execution_count": 134,
     "metadata": {},
     "output_type": "execute_result"
    },
    {
     "data": {
      "image/png": "[encoded data removed]",
      "text/plain": [
       "<Figure size 432x288 with 1 Axes>"
      ]
     },
     "metadata": {
      "needs_background": "light"
     },
     "output_type": "display_data"
    }
   ],
   "source": [
    "sns.barplot(data=df,x='Gender',y='Total',estimator=np.sum)"
   ]
  },
  {
   "cell_type": "markdown",
   "id": "17e31fc0",
   "metadata": {},
   "source": [
    "- This means that female visits and spend more than male but without high perc between them."
   ]
  },
  {
   "cell_type": "code",
   "execution_count": 135,
   "id": "838f86bb",
   "metadata": {
    "scrolled": true
   },
   "outputs": [
    {
     "data": {
      "text/plain": [
       "6.972700000000003"
      ]
     },
     "execution_count": 135,
     "metadata": {},
     "output_type": "execute_result"
    }
   ],
   "source": [
    "df['Rating'].mean()"
   ]
  },
  {
   "cell_type": "markdown",
   "id": "35cbe1f7",
   "metadata": {},
   "source": [
    "- This means that average rate of the supermarket is 6.972"
   ]
  },
  {
   "cell_type": "code",
   "execution_count": 136,
   "id": "21337ee9",
   "metadata": {},
   "outputs": [
    {
     "data": {
      "text/plain": [
       "Ewallet        345\n",
       "Cash           344\n",
       "Credit card    311\n",
       "Name: Payment, dtype: int64"
      ]
     },
     "execution_count": 136,
     "metadata": {},
     "output_type": "execute_result"
    }
   ],
   "source": [
    "df['Payment'].value_counts()"
   ]
  },
  {
   "cell_type": "code",
   "execution_count": 137,
   "id": "87914473",
   "metadata": {},
   "outputs": [
    {
     "data": {
      "text/plain": [
       "<AxesSubplot:xlabel='Payment', ylabel='count'>"
      ]
     },
     "execution_count": 137,
     "metadata": {},
     "output_type": "execute_result"
    },
    {
     "data": {
      "image/png": "[encoded data removed]",
      "text/plain": [
       "<Figure size 432x288 with 1 Axes>"
      ]
     },
     "metadata": {
      "needs_background": "light"
     },
     "output_type": "display_data"
    }
   ],
   "source": [
    "sns.countplot(data=df,x='Payment',hue='Branch')"
   ]
  },
  {
   "cell_type": "markdown",
   "id": "c6d2d3e0",
   "metadata": {},
   "source": [
    "- This means that Ewallet is the most payment method in supermarket then cash the credit card"
   ]
  },
  {
   "cell_type": "code",
   "execution_count": 138,
   "id": "37cb5513",
   "metadata": {
    "scrolled": true
   },
   "outputs": [
    {
     "name": "stdout",
     "output_type": "stream",
     "text": [
      "the number of quantities sold for Electronic accessories product is 971\n",
      "the number of quantities sold for Fashion accessories product is 902\n",
      "the number of quantities sold for Food and beverages product is 952\n",
      "the number of quantities sold for Health and beauty product is 854\n",
      "the number of quantities sold for Home and lifestyle product is 911\n",
      "the number of quantities sold for Sports and travel product is 920\n"
     ]
    }
   ],
   "source": [
    "products_line=['Electronic accessories','Fashion accessories','Food and beverages','Health and beauty','Home and lifestyle','Sports and travel']\n",
    "for product in products_line:\n",
    "    sum_of_quantity=df[df['Product line']==product]['Quantity'].sum()\n",
    "    print(f\"the number of quantities sold for {product} product is {sum_of_quantity}\")"
   ]
  },
  {
   "cell_type": "markdown",
   "id": "800f7187",
   "metadata": {},
   "source": [
    "- This means that Electronic accessories product is the most product that have been sold in all branches."
   ]
  },
  {
   "cell_type": "code",
   "execution_count": 139,
   "id": "dc8ae3d0",
   "metadata": {},
   "outputs": [
    {
     "data": {
      "text/plain": [
       "Product line\n",
       "Electronic accessories    54337.5315\n",
       "Fashion accessories       54305.8950\n",
       "Food and beverages        56144.8440\n",
       "Health and beauty         49193.7390\n",
       "Home and lifestyle        53861.9130\n",
       "Sports and travel         55122.8265\n",
       "Name: Total, dtype: float64"
      ]
     },
     "execution_count": 139,
     "metadata": {},
     "output_type": "execute_result"
    }
   ],
   "source": [
    "df.groupby('Product line').sum()['Total']"
   ]
  },
  {
   "cell_type": "code",
   "execution_count": 140,
   "id": "b4e75de4",
   "metadata": {},
   "outputs": [
    {
     "data": {
      "text/plain": [
       "<AxesSubplot:xlabel='Total', ylabel='Product line'>"
      ]
     },
     "execution_count": 140,
     "metadata": {},
     "output_type": "execute_result"
    },
    {
     "data": {
      "image/png": "[encoded data removed]",
      "text/plain": [
       "<Figure size 432x288 with 1 Axes>"
      ]
     },
     "metadata": {
      "needs_background": "light"
     },
     "output_type": "display_data"
    }
   ],
   "source": [
    "sns.barplot(data=df,y='Product line',x='Total',estimator=np.sum)"
   ]
  },
  {
   "cell_type": "markdown",
   "id": "7ef7d612",
   "metadata": {},
   "source": [
    "- This means that food and beverages is the most product that supermarket earn from him."
   ]
  },
  {
   "cell_type": "code",
   "execution_count": 141,
   "id": "7713ef37",
   "metadata": {
    "scrolled": false
   },
   "outputs": [
    {
     "data": {
      "text/plain": [
       "Saturday     164\n",
       "Tuesday      158\n",
       "Wednesday    143\n",
       "Friday       139\n",
       "Thursday     138\n",
       "Sunday       133\n",
       "Monday       125\n",
       "Name: day_name, dtype: int64"
      ]
     },
     "execution_count": 141,
     "metadata": {},
     "output_type": "execute_result"
    }
   ],
   "source": [
    "df['day_name'].value_counts()"
   ]
  },
  {
   "cell_type": "code",
   "execution_count": 142,
   "id": "7269eb7f",
   "metadata": {
    "scrolled": true
   },
   "outputs": [
    {
     "data": {
      "text/plain": [
       "<AxesSubplot:xlabel='count', ylabel='day_name'>"
      ]
     },
     "execution_count": 142,
     "metadata": {},
     "output_type": "execute_result"
    },
    {
     "data": {
      "image/png": "[encoded data removed]",
      "text/plain": [
       "<Figure size 432x288 with 1 Axes>"
      ]
     },
     "metadata": {
      "needs_background": "light"
     },
     "output_type": "display_data"
    }
   ],
   "source": [
    "sns.countplot(data=df,y='day_name')"
   ]
  },
  {
   "cell_type": "code",
   "execution_count": 143,
   "id": "c9ce4e14",
   "metadata": {
    "scrolled": true
   },
   "outputs": [
    {
     "data": {
      "text/plain": [
       "day_name\n",
       "Friday       43926.3405\n",
       "Monday       37899.0780\n",
       "Saturday     56120.8095\n",
       "Sunday       44457.8925\n",
       "Thursday     45349.2480\n",
       "Tuesday      51482.2455\n",
       "Wednesday    43731.1350\n",
       "Name: Total, dtype: float64"
      ]
     },
     "execution_count": 143,
     "metadata": {},
     "output_type": "execute_result"
    }
   ],
   "source": [
    "df.groupby('day_name').sum()['Total']"
   ]
  },
  {
   "cell_type": "code",
   "execution_count": 144,
   "id": "e48a65e0",
   "metadata": {
    "scrolled": true
   },
   "outputs": [
    {
     "data": {
      "text/plain": [
       "<AxesSubplot:xlabel='Total', ylabel='day_name'>"
      ]
     },
     "execution_count": 144,
     "metadata": {},
     "output_type": "execute_result"
    },
    {
     "data": {
      "image/png": "[encoded data removed]",
      "text/plain": [
       "<Figure size 432x288 with 1 Axes>"
      ]
     },
     "metadata": {
      "needs_background": "light"
     },
     "output_type": "display_data"
    }
   ],
   "source": [
    "sns.barplot(data=df,y='day_name',x='Total',estimator=np.sum)"
   ]
  },
  {
   "cell_type": "markdown",
   "id": "90265763",
   "metadata": {},
   "source": [
    "- This means that saturday is the most day that customers visit supermarket and spend more on it."
   ]
  },
  {
   "cell_type": "code",
   "execution_count": 145,
   "id": "e91a3562",
   "metadata": {},
   "outputs": [
    {
     "data": {
      "text/plain": [
       "Afternoon    528\n",
       "Evenning     281\n",
       "Morning      191\n",
       "Name: day_period, dtype: int64"
      ]
     },
     "execution_count": 145,
     "metadata": {},
     "output_type": "execute_result"
    }
   ],
   "source": [
    "df['day_period'].value_counts()"
   ]
  },
  {
   "cell_type": "code",
   "execution_count": 146,
   "id": "9f9aea84",
   "metadata": {
    "scrolled": true
   },
   "outputs": [
    {
     "data": {
      "text/plain": [
       "<AxesSubplot:xlabel='count', ylabel='day_period'>"
      ]
     },
     "execution_count": 146,
     "metadata": {},
     "output_type": "execute_result"
    },
    {
     "data": {
      "image/png": "[encoded data removed]",
      "text/plain": [
       "<Figure size 432x288 with 1 Axes>"
      ]
     },
     "metadata": {
      "needs_background": "light"
     },
     "output_type": "display_data"
    }
   ],
   "source": [
    "sns.countplot(data=df,y='day_period')"
   ]
  },
  {
   "cell_type": "code",
   "execution_count": 147,
   "id": "203915d9",
   "metadata": {},
   "outputs": [
    {
     "data": {
      "text/plain": [
       "day_period\n",
       "Afternoon    172468.5585\n",
       "Evenning      88699.3800\n",
       "Morning       61798.8105\n",
       "Name: Total, dtype: float64"
      ]
     },
     "execution_count": 147,
     "metadata": {},
     "output_type": "execute_result"
    }
   ],
   "source": [
    "df.groupby('day_period').sum()['Total']"
   ]
  },
  {
   "cell_type": "code",
   "execution_count": 148,
   "id": "b2eb2123",
   "metadata": {},
   "outputs": [
    {
     "data": {
      "text/plain": [
       "<AxesSubplot:xlabel='Total', ylabel='day_period'>"
      ]
     },
     "execution_count": 148,
     "metadata": {},
     "output_type": "execute_result"
    },
    {
     "data": {
      "image/png": "[encoded data removed]",
      "text/plain": [
       "<Figure size 432x288 with 1 Axes>"
      ]
     },
     "metadata": {
      "needs_background": "light"
     },
     "output_type": "display_data"
    }
   ],
   "source": [
    "sns.barplot(data=df,y='day_period',x='Total',estimator=np.sum)"
   ]
  },
  {
   "cell_type": "markdown",
   "id": "6585f6e2",
   "metadata": {},
   "source": [
    "- This means that Afternoon is the most period that customers visits supermarket and spend more on it."
   ]
  }
 ],
 "metadata": {
  "kernelspec": {
   "display_name": "Python 3 (ipykernel)",
   "language": "python",
   "name": "python3"
  },
  "language_info": {
   "codemirror_mode": {
    "name": "ipython",
    "version": 3
   },
   "file_extension": ".py",
   "mimetype": "text/x-python",
   "name": "python",
   "nbconvert_exporter": "python",
   "pygments_lexer": "ipython3",
   "version": "3.9.7"
  }
 },
 "nbformat": 4,
 "nbformat_minor": 5
}
